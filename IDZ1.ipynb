{
  "nbformat": 4,
  "nbformat_minor": 0,
  "metadata": {
    "colab": {
      "provenance": [],
      "collapsed_sections": [
        "gKYsAjdIi-yJ",
        "_1j2SrkWjOQu",
        "MpwC88PbjZqN",
        "R0Wdy627jilt",
        "Ws1_KJpJjofQ",
        "ibtLQszYg4eH",
        "SdxkTfS845ks",
        "ldvbP5ak9bXq"
      ],
      "include_colab_link": true
    },
    "kernelspec": {
      "name": "python3",
      "display_name": "Python 3"
    },
    "language_info": {
      "name": "python"
    }
  },
  "cells": [
    {
      "cell_type": "markdown",
      "metadata": {
        "id": "view-in-github",
        "colab_type": "text"
      },
      "source": [
        "<a href=\"https://colab.research.google.com/github/Kotenok3/Numeric_lab1/blob/master/IDZ1.ipynb\" target=\"_parent\"><img src=\"https://colab.research.google.com/assets/colab-badge.svg\" alt=\"Open In Colab\"/></a>"
      ]
    },
    {
      "cell_type": "markdown",
      "source": [
        "# Задание 1\n",
        "\n",
        "Пара носков стоит 10 руб. 50 коп., связка (12 пар) стоит 102 руб.\n",
        "50 коп., а коробка (12 связок) стоит 1140 руб. Требуется написать программу,\n",
        "которая по числу пар носков N (N ≤ 109\n",
        "), которые хочет купить покупатель,*Курсив*\n",
        "вычисляет количества коробок, связок и пар носков, которые ему следует\n",
        "купить с наибольшей выгодой.Пара носков стоит 10 руб. 50 коп., связка (12 пар) стоит 102 руб.\n",
        "50 коп., а коробка (12 связок) стоит 1140 руб. Требуется написать программу,\n",
        "которая по числу пар носков N (N ≤ 109\n",
        "), которые хочет купить покупатель,\n",
        "вычисляет количества коробок, связок и пар носков, которые ему следует\n",
        "купить с наибольшей выгодой."
      ],
      "metadata": {
        "id": "gKYsAjdIi-yJ"
      }
    },
    {
      "cell_type": "code",
      "execution_count": null,
      "metadata": {
        "colab": {
          "base_uri": "https://localhost:8080/"
        },
        "id": "Iehleq_hlQKg",
        "outputId": "7d983e14-6245-4687-9df5-dcb8ba928a6a"
      },
      "outputs": [
        {
          "output_type": "stream",
          "name": "stdout",
          "text": [
            "Введите кол-во пар носков 2480\n",
            "19485.0\n"
          ]
        }
      ],
      "source": [
        "count = int(input(\"Введите кол-во пар носков \"));\n",
        "price = 0;\n",
        "if(count >= 12*12):\n",
        "    price += count // 144 * 1140;\n",
        "    count = count % 144;\n",
        "\n",
        "if (count >= 12):\n",
        "    price += count // 12 * 10.5;\n",
        "    count = count % 12;\n",
        "    \n",
        "if (count > 0):\n",
        "    price += count * 10.5;\n",
        "\n",
        "print(price);"
      ]
    },
    {
      "cell_type": "markdown",
      "source": [
        "# Задание 2\n",
        "\n",
        "Напишите программу, которая для каждого натурального числа в\n",
        "промежутке от m до n выводит все делители, кроме единицы и самого числа.\n",
        "m и n вводятся пользователем с клавиатуры."
      ],
      "metadata": {
        "id": "_1j2SrkWjOQu"
      }
    },
    {
      "cell_type": "code",
      "source": [
        "a = int(input(\"Введите начало интервала \"))\n",
        "b = int(input(\"Введите конец интервала \"))\n",
        "\n",
        "if (a > b):\n",
        "  (a,b) = (b,a);\n",
        "\n",
        "for i in range(a,b,1):\n",
        "  print(\"Делители числа\", i, end = \": \");\n",
        "  flag = True;\n",
        "  for j in range(2,i):\n",
        "    if (i % j == 0):\n",
        "      print(j,end = \" \");\n",
        "      flag = False;\n",
        "  if(flag): \n",
        "    print(\"Простое число\");\n",
        "  else:\n",
        "    print();"
      ],
      "metadata": {
        "colab": {
          "base_uri": "https://localhost:8080/"
        },
        "id": "AD3RRBB7oaR4",
        "outputId": "07412f5b-85df-46c6-ea02-e8903a6b80b4"
      },
      "execution_count": null,
      "outputs": [
        {
          "output_type": "stream",
          "name": "stdout",
          "text": [
            "Введите начало интервала 2\n",
            "Введите конец интервала 12\n",
            "Делители числа 2: Простое число\n",
            "Делители числа 3: Простое число\n",
            "Делители числа 4: 2 \n",
            "Делители числа 5: Простое число\n",
            "Делители числа 6: 2 3 \n",
            "Делители числа 7: Простое число\n",
            "Делители числа 8: 2 4 \n",
            "Делители числа 9: 3 \n",
            "Делители числа 10: 2 5 \n",
            "Делители числа 11: Простое число\n"
          ]
        }
      ]
    },
    {
      "cell_type": "markdown",
      "source": [
        "# Задание 3\n",
        "\n",
        "На столе лежат коробка размера A1 × B1 × C1 и коробка размера\n",
        "A2 × B2 × C2. Все числа положительны и не превосходят 1000. Выясните:\n",
        "можно ли одну из этих коробок положить в другую, если разрешены\n",
        "повороты коробок вокруг любого ребра на угол 90 градусов."
      ],
      "metadata": {
        "id": "MpwC88PbjZqN"
      }
    },
    {
      "cell_type": "code",
      "source": [
        "A1 = int(input(\"Введите сторону А первой коробки:\"))\n",
        "B1 = int(input(\"Введите сторону B первой коробки:\"))\n",
        "C1 = int(input(\"Введите сторону C первой коробки:\"))\n",
        "A2 = int(input(\"Введите сторону А второй коробки:\"))\n",
        "B2 = int(input(\"Введите сторону B второй коробки:\"))\n",
        "C2 = int(input(\"Введите сторону C второй коробки:\"))\n",
        "\n",
        "box1 = [A1,B1,C1];\n",
        "box2 = [A2,B2,C2];\n",
        "box1.sort(); box2.sort();\n",
        "count = 0;\n",
        "\n",
        "for i in range(0,3):\n",
        "  if (box1[i] > box2[i]):\n",
        "    count+=1;\n",
        "\n",
        "if(count == 3):\n",
        "  print(\"Первая коробка больше\");\n",
        "elif(count == 0):\n",
        "  if(box1[0] == box2[0]):\n",
        "    print(\"Коробки одинаковы\");\n",
        "  else:\n",
        "    print(\"Вторая коробка больше\");\n",
        "else:\n",
        "  print(\"Коробки разные(\");\n",
        "    "
      ],
      "metadata": {
        "colab": {
          "base_uri": "https://localhost:8080/"
        },
        "id": "yALWt3AiMqtq",
        "outputId": "479c0beb-e3f1-4c76-ab82-ab2425bae01e"
      },
      "execution_count": null,
      "outputs": [
        {
          "output_type": "stream",
          "name": "stdout",
          "text": [
            "Введите сторону А первой коробки:9\n",
            "Введите сторону B первой коробки:2\n",
            "Введите сторону C первой коробки:5\n",
            "Введите сторону А второй коробки:1\n",
            "Введите сторону B второй коробки:15\n",
            "Введите сторону C второй коробки:10\n",
            "Коробки разные(\n"
          ]
        }
      ]
    },
    {
      "cell_type": "markdown",
      "source": [
        "# Задание 4\n",
        "\n",
        "Три попарно непараллельные прямые заданы коэффициентами ai,\n",
        "bi, ci соответствующими уравнению aix + biy = ci. Все коэффициенты – целые\n",
        "числа, не превосходящие 10000 по абсолютной величине. Коэффициенты ai и\n",
        "bi не могут быть одновременно равны нулю. Требуется написать программу,\n",
        "определяющую площадь треугольника, образованного этими прямыми."
      ],
      "metadata": {
        "id": "R0Wdy627jilt"
      }
    },
    {
      "cell_type": "code",
      "source": [
        "import math\n",
        "\n",
        "def IntersectionPoint(line1, line2):\n",
        "  d = line1[\"a\"]*line2[\"b\"] - line1[\"b\"]*line2[\"a\"]\n",
        "  dx = line1[\"c\"]*line2[\"b\"] - line1[\"b\"]*line2[\"c\"]\n",
        "  dy = line1[\"a\"]*line2[\"c\"] - line1[\"c\"]*line2[\"a\"]\n",
        "  if(d != 0):\n",
        "    x = dx/d\n",
        "    y = dy/d\n",
        "    return (x,y)\n",
        "  else:\n",
        "    return False\n",
        "\n",
        "def AreaTriangle(point1, point2, point3):\n",
        "  a = math.sqrt((point1[0]-point2[0])**2 + (point1[1]-point2[1])**2)\n",
        "  b = math.sqrt((point2[0]-point3[0])**2 + (point2[1]-point3[1])**2)\n",
        "  c = math.sqrt((point1[0]-point3[0])**2 + (point1[1]-point3[1])**2)\n",
        "  p = (a+b+c)/2\n",
        "  s = math.sqrt(p*(p-a)*(p-b)*(p-c))\n",
        "  return s;\n",
        "\n",
        "\n",
        "\n",
        "a1 = int(input(\"Введите коэффициент а первой линии:\"))\n",
        "b1 = int(input(\"Введите коэффициент b первой линии:\"))\n",
        "c1 = int(input(\"Введите коэффициент c первой линии:\"))\n",
        "a2 = int(input(\"Введите коэффициент а второй линии:\"))\n",
        "b2 = int(input(\"Введите коэффициент b второй линии:\"))\n",
        "c2 = int(input(\"Введите коэффициент c второй линии:\"))\n",
        "a3 = int(input(\"Введите коэффициент а третьей линии:\"))\n",
        "b3 = int(input(\"Введите коэффициент b третьей линии:\"))\n",
        "c3 = int(input(\"Введите коэффициент c третьей линии:\"))\n",
        "\n",
        "line1 = {\"a\": a1, \"b\": b1, \"c\":c1}\n",
        "line2 = {\"a\": a2, \"b\": b2, \"c\":c2}\n",
        "line3 = {\"a\": a3, \"b\": b3, \"c\":c3}\n",
        "\n",
        "point1 = IntersectionPoint(line1,line2)\n",
        "point2 = IntersectionPoint(line2,line3)\n",
        "point3 = IntersectionPoint(line1,line3)\n",
        "\n",
        "area = AreaTriangle(point1,point2,point3)\n",
        "print(\"Площадь треугольнака образованными линияли равна\",area);\n"
      ],
      "metadata": {
        "id": "1ypakyLYsNqC",
        "colab": {
          "base_uri": "https://localhost:8080/"
        },
        "outputId": "b1febf7b-4776-498e-92d5-a4394fbeb21a"
      },
      "execution_count": null,
      "outputs": [
        {
          "output_type": "stream",
          "name": "stdout",
          "text": [
            "Введите коэффициент а первой линии:1\n",
            "Введите коэффициент b первой линии:-1\n",
            "Введите коэффициент c первой линии:0\n",
            "Введите коэффициент а второй линии:1\n",
            "Введите коэффициент b второй линии:0\n",
            "Введите коэффициент c второй линии:5\n",
            "Введите коэффициент а третьей линии:0\n",
            "Введите коэффициент b третьей линии:1\n",
            "Введите коэффициент c третьей линии:0\n",
            "Площадь треугольнака образованными линияли равна 12.5\n"
          ]
        }
      ]
    },
    {
      "cell_type": "markdown",
      "source": [
        "![grafick.PNG](data:image/png;base64,iVBORw0KGgoAAAANSUhEUgAABFsAAAHHCAYAAABgPFeXAAAAAXNSR0IArs4c6QAAAARnQU1BAACxjwv8YQUAAAAJcEhZcwAADsMAAA7DAcdvqGQAAJVCSURBVHhe7b0JtF1Vme+bce+rur7bPSTXGqPqjXG9da/1FJti+LxqoSCICvW0vJZN2V3KK4UQjEgjKmUFtESJ4rUUCmmkFRJA+gABDpDQWAkhYEhIT5KTmIQ0lQYTEhNILOfLf2Wvwz57z919e63vrDPP7zfGN/bZazf/s9eec+61fnuutcft378/UBRFURTlV3Pnzg3//M//HHbs2BF+85vfhJdffjn89re/Df/yL/8Sfve734Vu+OlPf1r7q3x+9atf1f4ql9RyhNf7lOK688r6wz/8w/DDH/6wdq08Ulx3XjmMd3Y8211K492zzz6bjQ1/8Ad/EB566KHa0vKgL9nxzPndgW21pV/7Spjz/mOG6snj3xd2Lphfu9dwkC0URVEU5Vy5bPn1r3+NbKkjtRyBbLHjlYVsseOVw3hnx7PdIVvs0JfseOWsGRzsSbSIcfv27QsURVEURfnVk08+iWyJkFqOQLbY8cpCttjxymG8s+PZ7pAtduhLdjxyNKPlmS9P7Em0CGQLRVEURTkXsiVOajkC2WLHKwvZYscrh/HOjme7Q7bYoS/ZKTun10OH6hmnDTyKoiiKovxqzpw5Yd68eWHhwoVh2bJlYeXKlWFwcDCsXr06rFmzJttw6FSTJ0+OLi+jZs+eHV1edKWWo/J6n1Jcd15Z2pmaNGlS9LYiK8V155XDeGcvz3aX0ng3MDCQjQ3jx48PU6ZMid6nyKIv2avMHB061DijZc5xx4YVDw5E799YyBaKoiiKci7JFma2NJNajmBmix2vLGa22PHKYbyz49numNlih75kp6ycfma05Ix76aWXAkVRFEVRfvXEE08gWyKkliOQLXa8spAtdrxyGO/seLY7ZIsd+pKdMnJiokUzWnoRLaKtbNHGX2x5XtzO7bHleXE7t8eW58Xt3B5bnlfqtyNb4qSWI5AtdryykC12vHIY7+x4tjtkix36kp2ic1rNaNGhQ70ybu/evdmGH5dccskll1xy6XOJbImTWo5AttjxykK22PHKYbyz49nukC126Et2isxpd+iQJYfDiCiKoijKuZAtcVLLEcgWO15ZyBY7XjmMd3Y82x2yxQ59yU5ROZ3O0WLJyWa2UBRFURTlV8iWOKnlCGSLHa8sZIsdrxzGOzue7Q7ZYoe+ZKeInG5OhmvJQbZQFEVRlHMhW+KkliOQLXa8spAtdrxyGO/seLY7ZIsd+pKdfnO6ES3CkjNuz549oehat25duOGGG8KPfvSjcP/994cdO3ZE70dRFEVRixcvDt/4xjfC3/zN34R/+Id/CBs2bIjez6v0mXXrrbeGJ598MhMh9bdt2bIlTJkyJcybN6/ptl5q9uzZyJYIqeUIZIsdryxkix2vHMY7O57tDtlih75kp5+cbkWLsOSUIlsef/zxbKNZNXHixLB06dLo/SiKoqixV7t37x4m4e+7776hz4yzzjorLF++fOh+EhL9SI1eS5l333139r/83d/9XRgcHBy6Tf/zz372s+y2888/P/tiof6xvRSyJU5qOQLZYscrC9lixyuH8c6OZ7tDttihL9mx5vQiWoQlZ5w28oquetmiWrRoUfR+FDUaSjtf69evDzNmzMgGqB/84AdZ6e9Zs2aF7du3Rx9XVO3cuTNs3Lgx2wFdsmRJVsuWLct29F544YXoYyiqqiW5cN1114WvfvWr4bHHHgubN28OV1999bDPjIGBgbB27dpw5ZVXZsJenynqh7HnK7KUoSxl6v+YNm1a2LVrV3abLnVdy3W7/vd+/ieNHciWZlLLESntfAjPdeeVhWyx45XDeGfHs92lNN4hW/qnym28V9EiLDnIFopqUdqRkuC4+OKLh7XnxjrttNPC9OnTh3aaiirt3Emo/PKXvwxz585tWToEI//2n6KqXPUzQ3opyY1f/OIX0ecsqtTflaH+rEwJobxPt5Mw1kK2xEktRyBb7HhlIVvseOUw3tnxbHfIFjv0JTu95lhEi7C8nnHaiMxLG3xFXNc3fvUbygsXLmx7f65zfaSuv/jii9m5GXRuIe085bfpvAw333xz+OIXvzisLbcrzXbRIQf1z5//3et1zZbRDBadMyIviZV211euXJntzNY/p2YH6H/Kdwzrb+M6172vSyxYZIv6oURI4/MVeV0bVWeffXaW9+Mf/zibcZPftmDBgmwmjm679tprh2aU1T++1+v/9E//hGyJkFqOQLbY8cpCttjxymG8s+PZ7pAtduhLdnrJsYoWYXk9mWzJNwKLuozNbOnmcVxy6X2pHR19g62dOR0mJPmiQ4Z0ks76NlxfOvGzzregk3hqZ0liRmJEJ4X++7//+2ymSbf5scutW7dmA/yqVauyv/U/6VAiiRQdTqRDiJ5++ukh2VJ/KbGpHUHJleeffz67nyRMvWzhksuRvJT8O++886J9q1VNnTo16wPdPL/lUn1N52BR1kUXXZT1nfx2/b/f/va3s9vqJUy75+vmEtkSJ7UcgWyx45WFbLHjlcN4Z8ez3SFb7NCX7HSb049oEZbXMy7/Nr/IS81sOfHEE7ONU11qB7Cbx3HJ5Uhc3n777Vk7lXDRt+7asapvv/mlBIxO9qzHtHo+zSR5+OGHh2aYtLpfq0uJFQkVCZN299PMFx3iVD+zJS99C//cc89lokXXV6xYkT1vu+fjkkuvy02bNoXvf//7Q/1Ks0keeeSRrM/odskMyZX6/pcfthN7vn4v9f9IoCpHfV/iJb9d/Vn9Xv9Hflun5+v2UjN1kC3NpJYjkC12vLKQLXa8chjv7Hi2O2SLHfqSnW5y+hUtwvJ6xnWzURi71Dd/11xzTbjwwguzwyfqL7/5zW8O20nVN4ax+2knVzuN3eRxyWVZl7lsqd+5q7/UORzynzDv5vm8LlXqh88880yTcKkvZAuXVbiU/JPUkFyp71/agGlsn5rRdcUVVwy7nz5XdMJcnceoXU4vl/r80WFBen79X/Pnzx+6vZ2EKeIS2RIntRyBbLHjlYVsseOVw3hnx7PdIVvs0JfsdMopQrQIy+sZp40+Sz366KPZBmo/deaZZw6bKUBR3qUZJPollFj7VJ177rnZYKudwdjjq1A6jEn/Y0y0qDTLpcr/PzU2Kpea9TVp0qQhidFYM2fObLq/Sm09dv9eS4cl3XXXXdlzalabZmTm/UTjgg4v1G25hGl8fL+FbImTWo5AttjxykK22PHKYbyz49nukC126Et22uUUJVqE5fWMi20EdlNFyBZt4Op8LrHnpyiPaidbJFokKmKPq1rpG3r1JWQLVdWKyRb1sfwEzo3V6jOmKNmi2TOXXHJJ9pyNQqX+Nv2PrYRQP4VsiZNajkC22PHKQrbY8cphvLPj2e6QLXboS3Za5RQpWoTl9YzTTpildBLQr3zlK8M2gnstnWxQ56eIPT9FeZQkxVVXXRVtn6eeemr2zbcOH4o9tiqlb+jV+XWC3Dlz5jSVzu2i+8QeS1FepUPx1Kca+5lOFNt43/qZJfWlzxydILrx/taSRNFhrnpundxaJ5POb9PfWqbbdDiRTohd/9h+C9kSJ7UcgWyx45WFbLHjlcN4Z8ez3SFb7NCX7MRyihYtwvJ6zLJFpY3E/NdS6ksnO6zfQNYJOxvvQ1FVqHayRaWdw/vuu6+ywkUSRSfxbCVaVMgWqiqldqhzCH33u98d6mMSGvo1r/w+6mvaqKkXMzo/mGRHGe24nVTR+ZDyLxUuu+yyQr8cQLbESS1HIFvseGUhW+x45TDe2fFsd8gWO/QlO405ZYgWYXk947TxWnTpWPvPf/7zQyXZErsfRY106Rv066+/flh7bSzt9OmQhtjjR7p0slAdKvTEE0+0LMkW7cDGHk9R3pWfeLaxj2mZfoVI4qP+NtXNN9+cSYnY8xVR8+bNy6SKsiR29CWClqvfaOZN7LZ+6/HHH0e2REgtRyBb7HhlIVvseOUw3tnxbHfIFjv0JTv1OWWJFmF5PcgWasyXvsl+4IEHwp133hmtu+++O/v2O/bYkS7t+Onb9sbSa1q9enUmYySUYo+lKO+SWFCfqv986KYkOyREYs9ZREmqaEampI/ybrrppmHCpf42/f9FiB9kS5zUcgSyxY5XFrLFjlcO450dz3aHbLFDX7KT55QpWoTl9YzThmTR1ShbdOLB2P0oiqKosVObN28OF1988bDPh27r3nvvjT5nUSUpeccddwzl6W8ta7xtwoQJ2WecJEnjc/RS+vUjZEszqeUIZIsdryxkix2vHMY7O57tDtlih75kRzllixZheT1tZYu+fYstz6vV7d3KFuvz58Xt3B5bnhe3c3tseV7cPjK36xxD//AP/5B9Nlx66aXZYTrf//73h31m6HAdzSb55je/mV2/8cYbs584r3+eMv4/zWb5+c9/nmVqJku9VFG+frlMt+UzbRofX1+d8pEtcVLLEcgWO15ZyBY7XjmMd3Y82x2yxQ59yc6awcHSRYuwvJ5x+YZkkZcx2dLN47jkkksuuUz/cv369eGXv/xldoJqXb/tttuGPi9OP/30sHDhwmy5zu+ikzznoqXb5+/nUlk6abb+l2984xvZT6fnt+uwvFwU6SS/OlSv0/O1utR5oJAtzaSWI5AtdryykC12vHIY7+x4tjtkix36kg3NaHnmyxNLFy3C8npKOYxIciU/oeDkyZOzfyx2P4qiKIqaNWvWkGw577zzsp9kjt3PqySDdMLeW2+9NZvtUn+bfk1JPxetw5ryw4wsxcyWOKnlCGSLHa8sZIsdrxzGOzue7Q7ZYoe+1Dsehw7VY3k947SxqI29vLjOda5znetc97yuGS46qbMkh2az5MutzzcaruswKR2KpFk8y5Yty07CPTg4mM2WWbNmTfaB3qnyLzM8avbs2dHlRVdqOSqv9ynFdeeVpZ2pSZMmRW8rslJcd145jHf28mx3KY13AwMD2dgwfvz4MGXKlOh9iiz6Um+lQ4caZ7TMOe7YsOLBgej9iyjL68kOI6IoiqIoyq84jChOajmCmS12vLKY2WLHK4fxzo5nu2Nmix36Uvd4z2jJsbyebGYLRVEURVF+pZktyJZmUssRyBY7XlnIFjteOYx3djzbHbLFDn2pO2KiRTNayhYtwvJ6kC0URVEU5VzIljip5Qhkix2vLGSLHa8cxjs7nu0O2WKHvtSZVjNadOiQB5bXM07HylMURVEU5VfIljip5Qhkix2vLGSLHa8cxjs7nu0O2WKHvtSedocOVbkvIVsoiqIoyrmQLXFSyxHIFjteWcgWO145jHd2PNsdssUOfak1nc7RUuW+NG7btm0hL20Acp3rXOc617nO9XKvz5w5E9kSIbUcgWyx45WFbLHjlcN4Z8ez3SFb7NCX4nRzMtwq96VMtuQbgVxyySWXXHLJZfmXyJY4qeUIZIsdryxkix2vHMY7O57tDtlih77UTDeiRVS5L43bunVryEsbgFznOte5znWuc73c6zNmzEC2REgtRyBb7HhlIVvseOUw3tnxbHfIFjv0peF0K1pElftSJlvyjUAuueSSSy655LL8S2RLnNRyBLLFjlcWssWOVw7jnR3PdodssUNfeoVeRIuocl8aNrOFoiiKoqjyC9kSJ7UcgWyx45WFbLHjlcN4Z8ez3SFb7NCXDtKraBFV7kvIFoqiKIpyLmRLnNRyBLLFjlcWssWOVw7jnR3PdodssUNfsokWUeW+NG7Lli2BoiiKoii/evjhh5EtEVLLEcgWO15ZyBY7XjmMd3Y82x2yxc5Y70tW0SKq3JfGzZ07Nzz11FOBSy655JJLLrn0uVQhW5pJLUcgW+x4ZSFb7HjlMN7Z8Wx3yBY7Y7kv9SNaRJX70riJlywMFEVRFEX51S9/+UtkS4TUcgSyxY5XFrLFjlcO450dz3aHbLEzVvtSv6JFVLkvVVa2AAAApIg+45AtcVLLEcgWO15ZyBY7XjmMd3Y82x2yxc5Y7EtFiBZR5b6EbAEAAHBEn3HIljip5Qhkix2vLGSLHa8cxjs7nu0O2WJnrPWlokSLqHJfQrYAAAA4os84ZEuc1HIEssWOVxayxY5XDuOdHc92h2yxM5b6UpGiRVS5LzXLln/aFfa8tCvc0bjcuQAAAFJEn3HIljip5Qhkix2vLGSLHa8cxjs7nu0O2WJnrPSlokWLqHJfGi5blr50cCmyBQAAoBT0GYdsiZNajkC22PHKQrbY8cphvLPj2e6QLXbGQl8qQ7SIKvelOtmyMSxf/wIzWwAAAEpEn3HIljip5Qhkix2vLGSLHa8cxjs7nu0O2WIn9b5UlmgRVe5LHEYEAADgiD7jkC1xUssRyBY7XlnIFjteOYx3djzbHbLFTsp9qUzRIqrcl5AtAAAAdUh4bNq0KWzdurVr8aH7bdu2LWzZsiV7fDv0GYdsiZNajkC22PHKQrbY8cphvLPj2e6QLXZS7UtlixZR5b6EbAEAAKgh2bFx48ZMhqgkXTrJD92u++WP0ePbCRd9xiFb4qSWI5AtdryykC12vHIY7+x4tjtki50U+9KawcHSRYuocl9CtgAAANTYtWvXkDRRzZ8/v+0MFy3fvHlzdr/8MQsWLAi7d++u3aMZfcbpfsiWZlLLEcgWO15ZyBY7XjmMd3Y82x2yxU5qfUkzWp758sTSRYuocl9qli0VKQAAAG/2798f1qxZMyROVK2ES0y0qNauXcvMFiOp5Qhkix2vLGSLHa8cxjs7nu0O2WInpb7kcehQPVXuS8gWAACAOiQ91q1bN0ygNAqXVqLl+eefbytahD7jdF9kSzOp5Qhkix2vLGSLHa8cxjs7nu0O2WInlb7kLVpElfsSsgUAAKABSQ+Jk3qRkgsX3WYVLUKfcbr/vHnzwsKFC8OyZcvCypUrw+DgYFi9enU2s0Yf6J1q8uTJ0eVl1OzZs6PLi67UclRe71OK684rSztTkyZNit5WZKW47rxyGO/s5dnuUhrvBgYGsrFh/PjxYcqUKdH7FFkp9CWdo6Xx0KE5xx0bVjw4EL1/UVXlvmSSLV+94KHwgy9eGK76q5PDLX/+4XDPMUeH6e95V3ap61qu23W/2OO7KQAAgJGklXB57rnnhi1TdStahD7j9BhmtjSTWo5gZosdryxmttjxymG8s+PZ7pjZYme096XYjBaJljJntORUuS/1JFsmTbo1XPXJk8N973lXePDod4cZxxwZHnnvUeHRrN6TXeq6lut23U/31+Niz9euAAAARhrJj8ZDihpLt3crWoQ+4/Q4ZEszqeUIZIsdryxkix2vHMY7O57tDtliZzT3pVaHDmlGiwdV7ktdy5affO6r2eyVh2qC5bFj3xN+8b6jw6wDNbuudP2fDtTjB26XfHn4wP0lXfT42PO2KgAAgCogAdI4wyWvXkWL0GecHotsaSa1HIFsseOVhWyx45XDeGfHs90hW+yM1r7U7hwt9KUuZIsOBbrhw5/MhMlDRx8ZZhxzcCaLRIukyhN1KzYvLVNJvPzi2KOz+w8c/e4w5cOf6vrQIgAAgKqwffv2pnO0aEPshRdeqN2je/QZh2yJk1qOQLbY8cpCttjxymG8s+PZ7pAtdkZjX+p0Mlz6UgfZIjFy8/F/kYmWB45+91BJnGjGiiSKhItmtMSkiyqXLpoJo1kxOqdLN8IFAACgCsRES14LFizIbu8FfcbpsciWZlLLEcgWO15ZyBY7XjmMd3Y82x2yxc5o60vd/OoQfamDbLn+Lz6ZHTok2fLkjbPDiztePvio374c9v1qdlj9t+8OMzXL5dj3ZMKlfmXXl4SLbtehRQ8ec2S44cDzxvLqCwAAYKRpNaOl/nqvwkWfcXocsqWZ1HIEssWOVxayxY5XDuOdHc92h2yxM5r6UjeiRdCX2siWS/767HDvUUdksuWJ+9aE39YeMIyX14R1f/uuTLi0OqQor1y46Hwvet4f/88zo7l5wcjx4osvhgsvvDC89rWvDYceemg4++yzw6ZNm2q3AgCMDWKiRedo2bdvX9NJc3sRLvqM02OQLc2kliOQLXa8spAtdrxyGO/seLY7ZIud0dKXuhUtgr7UQrbo14Pulmg56l3hoUufDrX5LHF2PB2Wfebd2SFFOlyonXCZfaB0OJFmytx1yVPh0ssfbMrOC0aG3bt3h4kTJ4YLLrgg7NmzJ+zfvz/ccsst4VOf+lTYvHlz7V4AAGnTSrRIhghdrl27dtjtun83wkWfcbo/sqWZ1HIEssWOVxayxY5XDuOdHc92h2yxMxr6Ui+iRdCXWsiWn/7VF8K9R70r3P3pm8ILbU3LQfY99Y/ZyXN1mFCrw4nyc7doZss9n74kbHoxhOeeeKopOy8YGWbMmBE+8YlPDDvp40svvRROP/30cNFFF3W9EwAAMBrRGLd169a2oiWnlXCRRGk3VuozTvdFtjSTWo5AttjxykK22PHKYbyz49nukC12qt6XehUtgr4UkS06ee20I/8s3HPUx8Oyxc2m5eWNq8OepsXbwj9/712ZSGk1u0XLdG4XnSR33qxttceF8N1/fHRYfl7gjzb2zzrrrHD++efXlrzCz3/+80zC7Nixo7YEACA9JD4az8min31uFC05rYSLZgm2Qp9xuh+ypZnUcgSyxY5XFrLFjlcO450dz3aHbLFT5b5kES2CvhSRLRee+v1w95F/Fu4859HQtKm4fiDMevc7w33XLmw+h8uK28LjR787OrulflbLfV+5J+yse/D9N94/LD+vItBG66JFi8IZZ5wRfvCDH2SHxGiWxmWXXZadj+R73/tetnFbJjt37gx33313+NjHPhZmzpxZWxqyjfP3ve994Z577qktGXm2bdsWjj/++DB16tTakleYNWtWOPzww8Py5ctrSwAA0kPnY1m1atWQOInNaGlEnyP1wkWP1/O0Qp9xyJY4qeUIZIsdryxkix2vHMY7O57tDtlip6p9ySpaBH0pIluu+PhJ4a4jPxaWNs1q2RY2Tz4i3P+ed4V7j/p4WLWitngIzW45Inqy3PpZLYvmvVi7/0Gemx0/lKgIJAjGjRuXlUTB4sWLw/Tp08OWLVtq9yiXfKZI/j9Mnjy5dkvI/ocTTjghOoukFXPnzs1OWJs/X6eaMGFCdt6Vblm5cmV429ve1lK26Dl1CQCQMhIlg4ODXYmWHMl8fQjrce1Ei9BnHLIlTmo5AtlixysL2WLHK4fxzo5nu0O22KliX+pHtAj6UkS2TPnAB8PtZw6EXbU75Px28XXZzBXJlIePOTLc873ZYW/ttiEis1vyWS06ge59n7k9vNAwkWTHqseG5edVFNpo1YwSzWT53Oc+FzZs2FC7xQ/9ks+HPvSh7MSze/e+stbUiR944IHatZFHs1YkpZAtAADloc84ZEuc1HIEssWOVxayxY5XDuOdHc92h2yxU7W+1K9oEfSliGy5+ch3h/m/HD77JD8ni0SLZqjoF4UGjv5E29kt+blb8lktEjTP1J2rJefXA2cMy8+rSPITvGqWiTZoO1H0DJJ8hkv9/fQtqKRG/YloRxpkCwBA+egzDtkSJ7UcgWyx45WFbLHjlcN4Z8ez3SFb7FSpLxUhWgR9KTaz5RO3hu2NpzGpm7EiiaLDhGYec1S45+pFHc/dMjSr5T0/DdsafcTLy8PSj799WH5eRaIN10suuSS8//3vdzuEqBEdLqTzoei8KOLJJ5/MqkogWwAAykefcciWOKnlCGSLHa8sZIsdrxzGOzue7Q7ZYqcqfako0SLoSxHZ8ovHN9ZueoUdtxwRZhzzyrlYJFE0u+WB93wvbGyarFI/C+booVktsx5uPnxn7z99N9x05LuG5edVJFoxF198cXjnO9+ZbeCOBNdff/2Q7FHddNNN2eyWXij7nC35CXL1vzYiycIJcgEA+kefcciWOKnlCGSLHa8sZIsdrxzGOzue7Q7ZYqcKfalI0SLoSxHZsnr187WbamybHRa9592ZXKk/D4vEy4wWEuW3K27MZrdoRot+gej+91wS/rnpJDDLw6pPvTM7R0zj/6AqCgmNadOmZT/dqZ8uvuKKK7Ll2rjVRq0Xmi2Sn6RXomWkZti0Iz/c6Vvf+lbTxr7+f376GQCgf/QZh2yJk1qOQLbY8cpCttjxymG8s+PZ7pAtdka6LxUtWgR9KSJbnnviqdpNB3nxvtMyqdL4C0MSL4++9z3h/tjhQfrlou8dEQaOfnd44EDFhMy+eReHaUf+WbjiEycNy8+rX66++urs557nzJkTVqxYkW28fuc738lme+j67bff3vUGbRFoZsif/MmfZLJH+VVFYuojH/lIthOQk5/z5qKLLnJdZwAAKaLPOGRLnNRyBLLFjlcWssWOVw7jnR3PdodssTOSfakM0SLoSxHZ8sBN99duOkBkVkte9Se+nfNIfHbLQ0ceEe468oqwtVHG/HZ5GPz0n4W7D9x+4anfH5afV79IGrzpTW8Kjz766NCGq4TH61//+nDZZZf1fAhPv2jDWv/PY489VltSTXbv3p39apJmt+hvrScdVvTRj340bN68uXYvAACwos84ZEuc1HIEssWOVxayxY5XDuOdHc92h2yxM1J9qSzRIuhLEdny3X98tHZTCDtu/1h0VotK1w+e/PY94f7P/Cwyu+XlsPXaj4THHoicq2XWBeHeo44I0448Inz1goeG5eeVGvPnz3efTWPlxRdfDBdeeGH2c9k6R8zJJ58c1q1bV7sVAAD6QZ9xyJY4qeUIZIudfrLy89B1cx47ZIsdrxzGOzue7Q7ZYmck+lKZokXQlyKyRZUdSrTxkTD3qHeFRyOzWvI6OLvl4LlbZt+zpvmXiWLsejos/vS7wvQDz33lX32hKTuvlNiwYcOwGTYAADB20WccsiVOajkC2WLHmiWpIrmiX4LM0d/11+tBttjxymG8s+PZ7pAtdrz7UtmiRdCXWsiWyy4bCJsu+u/hvve86+AhRHVvQmPlv0w0cPRXw5pfvVx72la8HLZf97FMtNx91BFh0qRbm7LzGs1oQ1k/NX3eeeeFp59+OjzwwAPZBjQAAIA+45AtcVLLEcgWO9YsHTauWS2a3dINyBY7XjmMd3Y82x2yxY5nX/IQLYK+1EK2qH702TOzQ330a0ISKo2HEeWVH06U/erQZy4J/9zmx2p+u/i6MPOod4V7DjzvJX99djQ3r9GMNpi//e1vh6OOOirMnDmTGS0AADCEPuOQLXFSyxHIFjvWrHazWGIgW+x45TDe2fFsd8gWO17v05VXXOEiWgR9qY1sUV3/F58MDx5zZHi8dihRO+Gi87rMfO9R4b6/vT38uvFnng+wb8VtYe5RR4R73/Ou7HljefUFAACQIvqMQ7bESS1HIFvsWLMkWqZOnZpd5udsaSdfkC12vHIY7+x4tjtkix2P16QZLQ9/9lPD9uPLEi2CvtRBtujktbf8+YfDQ8ccmR0qpBksrYSLZIyEi2a4DHz29LD09gfD5mfXhBfmPBjWXPS/wvT3vCsTLTcf/xctT4pbXwAAACmizzhkS5zUcgSyxY41K5csOpxIxM7hUg+yxY5XDuOdHc92h2yxU/Zr8jp0qB76UgfZopIYmfLhT4WBo98dHn3vUdkJcXPp0ihedF23ScxoloskzcDRR4YH3vPu7JAkzWjpRrSoAAAAUkSfcZIt+oW6adOmhfvuuy8MDAxkG3MPP/xwVjNmzOhYZ511VnR5GXXTTTdFlxddqeWovN6nFNddr1lr167NhGU+s0Xi8oUXXgj79+8fdh4Xic5f/OIXQ4/TLy9KxtQ/VxlV5XVnLa8cxjt7eba7lMa7K6+8MhsbDjnkkOxXWmP3KbJKfU0Hti9mnfT5Yfvtc447Njx67TXx+xdU9KUZnWVLXj/53FezE+Y+fMyRmXTRoUWaySK5otLMFl1qmW7TDBf9SpEkjUTLJQceH3veVgUAAJAi+oyTbNHO31NPPRXmz58fFi5cGBYvXhyWLFkSli5dGpYtW9axdG6w2PIyShsMseVFV2o5Kq/3KcV112uWJIpkS34Ikdi3b18mXeply86dO8Nzzz039LjXvOY14etf//qw5yqjqrzurOWVw3hnL892l9J4py9DNDZIuFxzzTXR+xRZpb2mA9sVT0+c0CRaFt1zd/z+BRZ9aVn3skWlXw+66pMnZ9LlwaPfnckUSRXJl7xyyaLbdeiQ7t/uV4daFQAAQIroM47DiOKkliM4jMiONUtCRWKFw4jKxyuH8c6OZ7vjMCI7Zbym2KFDT3zgvaUeOlQPfamLw4hipUOBfvDFC8NVf3Vydk6Xu495z8Gfcz5wqetartu7PWQoVgAAACmizzhkS5zUcgSyxU4/Wblw4QS55eKVw3hnx7PdIVvsFP2aWp2j5cbvfqd2j/KhLxlli0cBAACkiD7jkC1xUssRyBY7XlnIFjteOYx3djzbHbLFTpGvqd3JcOlLdiw5yBYAAABH9BmHbImTWo5AttjxykK22PHKYbyz49nukC12inpNnX51iL5kx5KDbAEAAHBEn3HIljip5Qhkix2vLGSLHa8cxjs7nu0O2WKniNfUzc8705fsWHKQLQAAAI7oMw7ZEie1HIFsseOVhWyx45XDeGfHs90hW+z0+5q6ES2CvmTHkoNsAQAAcESfcciWOKnlCGSLHa8sZIsdrxzGOzue7Q7ZYqef19StaBH0JTuWHGQLAACAI/qMQ7bESS1HIFvseGUhW+x45TDe2fFsd8gWO9bX1ItoEfQlO5YcZAsAAIAj+oxDtsRJLUcgW+x4ZSFb7HjlMN7Z8Wx3yBY7ltfUq2gR9CU7lhxkCwAAgCP6jEO2xEktRyBb7HhlIVvseOUw3tnxbHfIFju9viaLaBH0JTuWHGQLAACAI/qMQ7bESS1HIFvseGUhW+x45TDe2fFsd8gWO728JqtoEfQlO5YcZAsAAIAj+oxDtsRJLUcgW+x4ZSFb7HjlMN7Z8Wx3yBY73b6mfkSLoC/ZseRUVrZQFEVRVKqFbImTWo5AttjxykK22PHKYbyz49nukC12unlN/YoWQV+yY8kZ99Av5geKoiiKovwK2RIntRyBbLHjlYVsseOVw3hnx7PdIVvsdHpNRYgWQV+yY8kZ98ILL4SqldcKAwAAGAmQLXFSyxHIFjteWcgWO145jHd2PNsdssVOu9dUlGgR9CU7lhxkCwAAgDPIljip5Qhkix2vLGSLHa8cxjs7nu0O2WKn1WsqUrQI+pIdSw6yBQAAwBlkS5zUcgSyxY5XFrLFjlcO450dz3aHbLETe01FixZBX7JjyamTLevDrGvPCeecc7CmLx4uQDzLa4UBAACMBMiWOKnlCGSLHa8sZIsdrxzGOzue7Q7ZYqfxNZUhWgR9yY4lZ0i2rJ91Tbhm1vqa8FgUpp8zPSyq3eZdXisMAABgJEC2xEktRyBb7HhlIVvseOUw3tnxbHfIFjv1r6ks0SLoS3YsOS0OI9IsF2QLAABAGSBb4qSWI5AtdryykC12vHIY7+x4tjtki538NZUpWgR9yY4lJyJbDh5OxGFEAAAA5YBsiZNajkC22PHKQrbY8cphvLPj2e6QLXb0msoWLYK+ZMeS0yBbdPjQNWHW2vpl/uW1wgAAAEYCZEuc1HIEssWOVxayxY5XDuOdHc92h2yxs2ZwsHTRIuhLdiw5r8iWtbPCNSN4npb68hwUAAAA6pHw2LRpU9i6dWvX4kP327ZtW9iyZUv2+E4gW+KkliOQLXa8spAtdrxyGO/seLY7ZIsNzWh55ssTSxctgr5kx5IzJFsW3fvKLxEdLM7ZAgAAYwvJjo0bN2YyRCXp0kl+6HbdL3+MHt9JuCBb4qSWI5AtdryykC12vHIY7+x4tjtkS+94HDpUD33JjiWnxQlyR7Y8BwUAAICcXbt2DUkT1fz589vOcNHyzZs3Z/fLH7NgwYKwe/fu2j3i6H7z5s0LCxcuDMuWLQsrV64Mg4ODYfXq1WHNmjXZ52Cnmjx5cnR5GTV79uzo8qIrtRyV1/uU4rrzytLO1KRJk6K3FVkprjuvHMY7e3m2u5TGu4GBgWxsGD9+fJgyZUr0Pv2WDh1qnNEy57hjw4oHB6L3L6LoS/ay5CBbAAAAauzfvz+THbk4UbUSLjHRolq7di0zW4ykliOY2WLHK4uZLXa8chjv7Hi2O2a2dI/3jJYc+pIdSw6yBQAAoA5Jj3Xr1g0TKI3CpZVoef755zuKFqH7IluaSS1HIFvseGUhW+x45TDe2fFsd8iW7oiJFs1oKVu0CPqSHUsOsgUAAKABSQ+Jk3qRkgsX3daPaBG6P7KlmdRyBLLFjlcWssWOVw7jnR3Pdods6UyrGS06dMgD+pIdS45Jtjz11FPhvPPOC8cdd1x47WtfG171qleFcePGZZe6ruW6XfeLPb5TeQ4KAAAAMVoJl+eee27YMlUvokXoMciWZlLLEcgWO15ZyBY7XjmMd3Y82x2ypT3tDh2iL9mpck5PsmXatGmZSJFY6bZ0fz0u9nytymuFAQAAtEPyo/GQosbS7b2IFqHHIVuaSS1HIFvseGUhW+x45TDe2fFsd8iW1nQ6Rwt9yU6Vc7qWLX/9138dlSndlh4fe95Yea0wAACATkiANM5wycsiWoQei2xpJrUcgWyx45WFbLHjlcN4Z8ez3SFb4nRzMlz6kp0q53SULToU6E//9E+jAqXX0vN0c2iR1woDAADohu3btzedo0UbYvrMsoBsiZNajkC22PHKQrbY8cphvLPj2e6QLc10I1oEfclOlXPayhaJEZ2DJSZOrKXn6yRcvFYYAABAJ2KiJa8FCxZkt/eKHotsaSa1HIFsseOVhWyx45XDeGfHs90hW4bTrWgR9CU7Vc5pK1vqZ7R88Af3haVb9x581P694dfL7gs//HCzTOmm9LyxvLy8VhgAAEA7Ws1oqb9uES56HLKlmdRyBLLFjlcWssWOVw7jnR3PdodseYVeRIugL9mpck5L2XLCCScMyZEPXrs01DTLcPYuDVcbhctnP/vZaK7Ka4WNJHqdEydODPfff3/YvXt3tnG9Zs2a8L3vfS+sWrWqdi8AABgpYqJF52jZt29f00lzexUuegyypZnUcgSyxY5XFrLFjlcO450dz3aHbDlIr6JF0JfsVDknKlv060G5FPnjr80Mv67dOcrWmeHs1zXLlE6l5535yCNN2SqvFTaSbNu2LXzkIx8Jhx56aLY+3vrWt2aiZcuWLbV7AADASNFKtEiGCF2uXbt22O26f7fCRfdHtjSTWo5AttjxykK22PHKYbyz49nukC020SLoS3aqnBOVLR/4wAcOSpHX/TA8E53SMpxfP3T2MJHSsV53dpj56xAef/zxpmyV1wobSSRbrrzyyto1AACoAhIdW7dubStacloJF0mUTsJE90W2NJNajkC22PHKQrbY8cphvLPj2e7GumyxihZBX7JT5Zwm2aKT1x6UIn8cvjun2bT8es3SsKlp8aZw34kNQqVNnXTPptrjDm5wNv4PXitsJEG2AABUD4mPxnOy6GefG0VLTivhosND26H7IVuaSS1HIFvseGUhW+x45TDe2fFsd2NZtvQjWgR9yU6Vc5pky7nnnntQinz4jrC6dqchVt4YPnjgtj8+/4nmc7jM/0n44zqh0rI+cHVYur/2mAPokKXG/6GoFaaN1kWLFoUzzjgj/OAHPwj79+8PL730UrjsssuyX0XSYTvauB0JctkyZ86ccNRRR4X/8B/+Qzj55JM5jAgAYATR+Vh03qxcnMRmtDSiz5F64aLH63nagWyJk1qOQLbY8cpCttjxymG8s+PZ7saqbOlXtAj6kp0q5zTJloOHEMVmtdTPXvnj8JOmttPd7JazHxl+BpjYoURFrbBZs2YN5R5++OFh8eLFYfr06SahMXfu3KHzq3RTEyZMCHv27Kk9uhm9zvPPPz/ryLkEmjx5cvjc5z4Xdu7cWbsXAAB4I1EyODjYlWjJ0Tiuzy49rpNoEciWOKnlCGSLHa8sZIsdrxzGOzue7W4sypYiRIugL9mpck6TbPnP//k/h3EfuLFpVsveOd8dPnPlxPvCKwcD1eg0u+V1PwnP1M1qEauX3DssX1XkCtNG68yZM7OZLBIZGzZsqN1SPTZu3Bje//73hzvuuKO2BAAAUgTZEie1HIFsseOVhWyx45XDeGfHs92NNdnyu/37CxEtgr5kp8o5TbLl3/ybf9M0+yQ+a6X32S3152rJWXbTXwzLVxW9wjRr5PTTTw9nnXVWtkFbVfbu3Zv9HPTnP//5jsf7AwDA6AXZEie1HIFsseOVhWyx45XDeGfHs92NJdlSpGgR9CU7Vc5pki2x2SctZ6yc18u5WyaFJ3bV7pOz95nww9eNG5avKnqFacP1kksuyWaNVP2cKDq06Jhjjqn0DBwAAOgPZEuc1HIEssWOVxayxY5XDuOdHc92N1Zki0TL4rNOL0y0CPqSnSrnNMmWL9zT/CTP/CgmT1QnhfuaJqvEZ7cce1PT6XbDpntOCq961auG5auKXmF6vosvvji8853vzDZwLRR5zhbNWtHJcE877bSm+0i2vO1tbwsrV66sLQEAgNRAtsRJLUcgW+x4ZSFb7HjlMN7Z8Wx3Y0G2lCFaBH3JTpVzmmTLg8sbpMim+8JJEZmQV0yi7J3/w4bZLWeHmY1HJu1/JvzkdeOyc8Q0/g9FrjCdtFC/eKSf7vzEJz4Rrrjiimy5Nm61UTsS6DV+6EMfapIt2tjWoU76P3fs2FFbCgAAqYFsiZNajkC22PHKQrbY8cphvLPj2e5Sly1liRZBX7JT5Zwm2aJfB6pn6bXH1kmTWEUOD2qY3RITMr9+5OzsNv36UeP/UMQKu/rqq7Ofe9ZPK69YsSLbeP3Od76TzTjR9dtvv73rDdqiUe5dd92V/TJSfm4WbWg/8MAD4e1vf3t47LHHsmUAAJAmyJY4qeUIZIsdryxkix2vHMY7O57tLmXZUqZoEfQlO1XOaZItmgUyRIdZLXl98NZ2s1siMqY2q0WPPffcc4flq4pYYXodb3rTm8Kjjz46tOGqn4J+/etfHy677LJsxstIog3qhx9+OLzvfe/L1oN+LUmzWtasWVO7BwAApAqyJU5qOQLZYscrC9lixyuH8c6OZ7tLZbxbt25dOPPMM8Pv//7vh0MOOSR89C//MvzDh/6/0kSLoC/ZqXJOk2ypP6fJM//4x0NCpW297ruR2S17wxPn/3H44A3xc7Xkj33qqaeG5au8VhgAAMBIgGyJk1qOQLbY8cpCttjxymG8s+PZ7lIY72655ZZsNovO1SnRojr01a8O4//9vwtf/pP/VopoEfQlO1XOaZItquxQojV3hA/WC5UOdeyVS5t/mSjGr2eGs2uzWmKHEKm8VhgAAMBIgGyJk1qOQLbY8cpCttjxymG8s+PZ7kb7ePfEE0+E17zmNZloyWXLqyVb8vqP/zFc9c7/XrhoEfQlO1XOicqWmTNnhJlnNQuV9vXBcPWyTrrl4GyX/DE61CeW77XCAAAARgJkS5zUcgSyxY5XFrLFjlcO450dz3Y32sc7ndszFy2qYaKlVid9+lO1excLfclOlXOiskX1mc98pk6kdFmvOzvM3Fp75gh753x36FeKTjjhhGiuymuFAQAAjATIljip5Qhkix2vLGSLHa8cxjs7nu1utI93b33rW1+RLa9+dZNo0fLDDz+8du9ioS/ZqXJOS9mi+tM//dNmodKpPvyT8Ezjzzwf4NfzfzJ0WNJb3vKWaF5eXisMAABgJJBsmTdvXli4cGFYtmxZWLlyZRgcHAyrV6/OTpSuz8FONXny5OjyMmr27NnR5UVXajkqr/cpxXXnlaXzM0yaNCl6W5GV4rrzymG8s5dnuxvt492xxx7bWrRo2YHb/tN/+k/Rx/Zb9CV7VTmnrWzRyWv1KzlNQqVTve7YcPY/3hju+6el4Yn7bww/+fJbh27T88VOiltf+scAAABShZktcVLLEcxsseOVxcwWO145jHd2PNvdaB/vJpxySlvRojrppJNq925Gn9/W0hctseVF1xVXXBFdXkQ1Ql/qMLNFJTFimuESKT1PJ9Gi8hwUAAAAvEG2xEktRyBb7HhlIVvseOUw3tnxbHejebz73f794foT/md2Etx60ZKdJLdOtugkuvU0Cgd9jltKM1tjy4suyZbY8n6rcT0I+lIXsiWvv/7rv44KlG5Lj489b6w8BwUAAABvkC1xUssRyBY7XlnIFjteOYx3djzb3Wgd7yRaFp91evazzqe9+Y3h0P/r/xoSLblsGT9+fLj66qtrj3hFsuSyQZ/hqv0HnstSq1atii4vui6//PLo8n4rf/318kWzdTyocl/qWrao9OtBxx13XFSmtCrdv9WvDrUqz0EBAADAG2RLnNRyBLLFjlcWssWOVw7jnR3Pdjcax7t60ZLXT485Knz8L/4iHHbYYeGP/uiPwt/8zd8Mm9FSL1pywbJv377ss1z10ksv9VwrVqyILi+6Lr300ujyfip/3VoHuXjRuskPjSqbKvelnmRLXjoU6LzzzstEis7B8qpXvSoTK7rUdS3X7d0cMhQrz0EBAADAG2RLnNRyBLLFjlcWssWOVw7jnR3PdjfaxruYaHny+PeFnQvmh2effTYbG3QC7Yceeqj2iIOipVGySDjs2bMn7N69O+zatSurF198sadasmRJdHnRdfHFF0eXWyt/vXrtWgdaF7l00Yn/e9musVLlvmSSLWWX56AAAADgDbIlTmo5AtlixysL2WLHK4fxzo5nuxtN41070SJiskWfz6pctEgs6DNc0mHnzp3ZZ/r27dvDtm3beq758+dHlxddP/rRj6LL+ym9Zr12rQOtC60TrRsdGqV1la+3sqhyX0K2AAAAOINsiZNajkC22PHKQrbY8cphvLPj2e5Gy3jXSbSIVrJFn9P1okWCQcJhy5Yt2f9lLc0CiS0vupYuXRpd3m+tX78+bNq0Kdu20TrRutGhUVpXZc9uUb4HlhxkCwAAgDPIljip5Qhkix2vLGSLHa8cxjs7nu1uNIx33YgW0ShbctGiz2odJlMvWiQaduzYUXukDT2vB/q/y0BSRYcS1QuXZcuWZeuq1+2bXqlyX0K2AAA48PL+34VfbdkXnl61J8xctDs8MH9XVvpby3Sb7gNjA2RLnNRyBLLFjlcWssWOVw7jnR3Pdlf18a5b0SJayZZ8VosOl9HnuESLrvfLaJctOVo/uXDReWi0bsqe3VLlvoRsAQAomec2vhweeGZXuL9D6T66L6QPsiVOajkC2WLHKwvZYscrh/HOjme7q/J414toETHZos9pzdTQiWA1c0NSQbM5iiAV2SLyGS6LFy/O1lU+uwXZUpHyHBQAAMpi195/CbOX/yYqVtqVHqPHQrogW+KkliOQLXa8spAtdrxyGO/seLa7qo53vYoW0Uq26PNaMkGf35rVolkbRZCSbNE60bpZuHBhtq7ybRxkS0XKc1AAACgDyZJHFvcuWvLSYxEu6YJsiZNajkC22PHKQrbY8cphvLPj2e6qON5ZRIuoly0PPvjg0CFE+rzWTx3rF3iKXLcpyRahdbNgwYJsXWmdlXkoUZX7ErIFAKAELDNaGkvPAWmCbImTWo5AttjxykK22PHKYbyz49nuqjbeWUWLaCVbdA4SCQSdGLfIdZuibNHPWWtdlX3elir3JWQLAEDB6LwrMXliKc7hkibIljip5Qhkix2vLGSLHa8cxjs7nu2uSuNdP6JFtJMtOjkusqU9WjeSLVpXyJaKVVkr7LHHHss6Tj1qcFOmTAnf+ta3skuvBggAaaJfFOrmZLjdlp6LXykaWWKfHVu3bg2XX3559tlx7733Zid/6wVkS5zUcgSyxY5XFrLFjlcO450dz3ZXlfGuX9EikC39oXWDbBlDskUby9oobtxg1nJV498AABb0E84xadJP6TlhZIh9dkisSLBoWf3fvYBsiZNajkC22PHKQrbY8cphvLPj2e6qMN4VIVoEsqU/tG6QLWNAtqhBacbKbbfdllX9BnF+29q1a7Pr+qZS9+mnEe7YsSNs3LgxbNiwgaKoMVgDc9eHG2eua1vnTf1V+PiFq7PS37H71JeeM5ZFxUtjsMbifmj32aHPihtuuCG7FPoM6XV2C7IlTmo5AtlixysL2WLHK4fxzo5nuxvp8a4o0SKQLf2hdYNsGSOyRZ0h9u1j4wZz4/Ve0cZ9bMOfoqixU7f/or1skVw5/CurhlUn4aLnjGVR7asf4dLus0Nypf6w08br3YBsiZNajkC22PHKQrbY8cphvLPj2e5GcrwrUrSIsmWLvhj62Mc+Fp555pnsepVky1VXXRW+9KUvZf+jFa0bZMsYOoyolWypn8miS123yhZmtFCp1J133plV7Daqfd30SFyY5KXZLI2yRcti981LzxnLotpXPxsJOa1kS/1MlsbPkm5AtsRJLUcgW+x4ZSFb7HjlMN7Z8Wx3IzXeFS1aRJmyRYLliCOOGBItomozW/oVLlo3yJYEZIs2enU8fWPVbwgLZAtFdV/IFnshW6pTyJbiqPKGjAWvHIFsseOVhWyx45XDeGfHs92NxHhXhmgRZcoWzWiRzKinarJFxP7PbtG6QbYws4XDiCiKKrQ4jKg61e95W0Qr2cJhROWQWo5AttjxykK22PHKYbyz49nuvMe7skSLKEu2SF5oVkvjF0JVlC2t/tdu0LpBtoxx2aLGVj+TRZe9fjvZiDbumeFCUWO3OEHuyJfG4CJEi2gl6us/KxpnunQDsiVOajkC2WLHKwvZYscrh/HOjme78xzvyhQtogzZou0TyQsdntNIFWWL0OyW73znO7Vr3aN1g2wZ47JF8NPPAFAk/PRzWsQ+O+qXtfps6QSyJU5qOQLZYscrC9lixyuH8c6OZ7tzG+8GB0sVLaIM2ZKfqyV2aE69bPnZz36WzZjdsmVLtk2wa9euMG3atPDII4/U7tE7+XPqf+7lOSWGLLNblINsQbZkG7lqeDrPS6/TwAEAGnl5/+/CAxFhYi09l54TRoZWnx2a3XL55ZdHzxHWDciWOKnlCGSLHa8sZIsdrxzGOzue7c7jfdKMlnkTJ5QqWkQZsiU/LKf+xLg59bLliiuuCO9///uz+x533HHh3HPPDcuXL+9LVOTPefjhh/f0nPn/PH369NqS7tC6QbaMIdkCAODFcxtfjooTS+m5ID2QLXFSyxHIFjteWcgWO145jHd2PNtd2e9T2YcO1VOGbJG00GE5Mepliw5VLupw6Jz8OXudWJDPxun1UCKtG2QLsgUAoBRmL/9NVJ70UnoOSBPJlnnz5oWFCxeGZcuWhZUrV4bBwcGwevXqsGbNmuxzsFNNnjw5uryMmj17dnR50ZVajsrrfUpx3XllaWdq0qRJ0duKrBTXnVcO4529PNtdqe/Tgc/Ixhktc447Nqx4cCB+/z5rYGAgGxvGjx+f/YCKPp9XrVoVVqxYEZYsWZKJBH1uS5J0W+94xzvCRz7ykeht+Zcuqp///Odh+/btw27vt/Ln1OFDsdtb1fr167P/+9RTT43e3qq0bu6///5sXWmdad31so3TS1W5LyFbAABKYNfefwmPLLYLFz1WzwFpwsyWOKnlCGa22PHKYmaLHa8cxjs7nu2urPfJc0ZLTtEzW9qdHFdoGyBHs1AkJs4777xw5JFHhhNOOCEsWLCgdquN/DnPPvvsnp+z3f/dCq0bZrYwswUAoDQkSywzXPQYREvaIFvipJYjkC12vLKQLXa8chjv7Hi2uzLep5ho0YyWMkWLKFq25IfjdCNbNAtFP9qyZ8+ebJtgzpw54ZOf/GR2jhUr+XPq/+71Odsd/tQKrRtkC7IFAKB0dN6Vbk6aq/twjpaxAbIlTmo5AtlixysL2WLHK4fxzo5nuyv6fWo1o0WHDpVNWbKl1blP6mVLI7rt4osvDhdccEG2vdAP+TlbenlOZMtBLDnIFgAAB/SLQvoJ56dX7QkzF+0OD8zflZX+1jLdxq8OjR2QLXFSyxHIFjteWcgWO145jHd2PNtdke9Tu0OHPF7TSB5GFEPnP/nwhz+cneOtH3LZIrp5zvz/RrbYcpAtAAAAziBb4qSWI5AtdryykC12vHIY7+x4trui3qdO52jxeE0j+WtEMfKZMTpJaz/Uy5ZunrOTJGqF1g2yBdkCAADgDrIlTmo5AtlixysL2WLHK4fxzo5nuyvifermZLger6kM2SLRInERI5ctd911V/j0pz+d/WpPPbkY0WyUXql/zphsafec+X2uuuqq2pLu0LpBtiBbAAAA3EG2xEktRyBb7HhlIVvseOUw3tnxbHf9vk/diBbh8ZrKkC06X4vEhWaLNJLLFq1Dnbi2UbbMnDkzHHvssWHx4sW1Jd1T/5z1sqWb55Rk0f88ffr02pLu0LpBtiBbAAAA3EG2xEktR3i9TymuO68sZIsdrxzGOzue7a6f96lb0SI8XlMZskXCopW4yGWLhMjNN98ctmzZkm0PKFc5p59+erjyyiuH7id0P81Y0U86t6P+OXfv3t32ORvR4UP6n3tFz49sQbYAAAC4g2yJk1qOQLbY8cpCttjxymG8s+PZ7qzvUy+iRXi8pjJki9ChRLFfJKoXHhs2bAjnnXdeOProo8ORRx6ZCY8nn3wy+x/qkUD58z//864OLcqf8+1vf3vb52xEoqXVLyi1Q+sG2YJsAQAAcAfZEie1HIFsseOVhWyx45XDeGfHs91Z3qdeRYvweE1lyZb8sJzGQ4nazS5px44dO3o6aW79YUSdaPW/doPWDbIF2QIAAOAOsiVOajkC2WLHKwvZYscrh/HOjme76/V9sogW4fGaypItQrNbGk84a5UtOkRIUqNbepEtEi29nhg3R+sG2YJsAQAAcAfZEie1HIFsseOVhWyx45XDeGfHs9318j5ZRYvweE1lyhbNFJFwqZ8xYpEt2l6YMWNG2LlzZ21JZ7qVLZIsvf7ccz1aN8gWZAsAAIA7yJY4qeUIZIsdryxkix2vHMY7O57trtv3qR/RIjxeU5myRUi0SGbkwsUiWzSrpdPJcRvpRrboBL79iBahdYNsQbYAAAC4g2yJk1qOQLbY8cpCttjxymG8s+PZ7rp5n/oVLcLjNZUtWxqxyBYL3c5s6RetG2QLsgUAAMAdZEuc1HIEssWOVxayxY5XDuOdHc921+l9iomWOccd25NoER6vCdnSH1o3yBZkCwAAgDvIljip5Qhkix2vLGSLHa8cxjs7nu2u3ftUlGgRHq8J2dIfWjfIlhDGLV++PFAURVEU5VfIljip5Qhkix2vLGSLHa8cxjs7nu2u1ftUpGgRHq8J2dIfWjfIFma2AAAAuINsiZNajkC22PHKQrbY8cphvLPj2e5i71PRokV4vCZkS39o3SBbkC0AAADuIFvipJYjkC12vLKQLXa8chjv7Hi2u8b3qQzRIjxeE7KlP7RukC3IFgAAAHeQLXFSyxHIFjteWcgWO145jHd2PNtd/ftUlmgRHq+pnWzZtWsXsqUDWjeSLVpXyJas1odZ154TzjlHdU2YtXa4APEsrxUGAAAwEiBb4qSWI5AtdorKmjp1apgwYULYs2dPbclwkC12vHIY7+x4trv8fSpTtAiP19RKtujzWgJh+/bthf4fKcqWBQsWZOtK6wzZsnh6uGbW+qG/z7l30TAB4lleKwwAAGAkQLbESS1HIFvsFJGlE1IffvjhyJaS8MphvLPj2e70PpUtWoTHa6qXLQ899FD22azPaX1e7969O/v83rhxYzZrowhSlC0LFy7M1lW+jVOGaBFV7kvxw4iQLQAAAKWBbImTWo5AttjpN0ty5Wtf+1pWyJZy8MphvLPj2e6uvPzy0kWL8HhNrWTLvn37srFk586dYdOmTZlMKIKUZIvWidbN4sWLs3WldYZsySo/lIjDiAAAAMoC2RIntRyBbLHTb5YOH8oL2VIOXjmMd3a8cjSjZcZnPlm6aBEerykmW/JDifKT5OpzfP369dmyfklFtmhd6P3RulmyZEnp52sRVe5L8ZktmXSZHhZFbyu/vFYYAADASIBsiZNajkC22OknSyevlGDRJbKlPLxyGO/seOR4HDpUj8draiVb9FmtmRr67Nbslq1bt2bCRbM5+jmkaLTLFgmVHTt2ZO+Nxl2tm2XLlg3NahnzsmX9rGteOWfLC4vC9HOQLQAAMPbQBoGmv2oDqtsNA91PGxdbtmzJHt8JyZbbb789TJs2Ldx3331hYGAg25h7+OGHs5oxY0bHOuuss6LLy6ibbropurzoSi1H5fU+pbjuesl69NFHw/PPPz/U/84///wwa9as7O962SKxuWLFimGPPfTQQ7Pb65eVUVVdd/2UVw7jnb1Kz3nwwTDrxM8NEy1PfOC94dFrr4nfv4DyWHdXXnllNjYccsgh4cILL8yW5Z/ROmHuAw88kH1+33PPPdl1nZ9E54h67rnnTCUxEVtedOn/jC3vt/TadUJcrQutE62b66+/Prvey7aNparcl+pmttT/GtE5Yfri4QLEs5AtAAAwEmhHTSe8kwxRSbp0Ei66XffLH6PHdxIuup92BJ966qnspxG18aNjmzXldunSpdlGV6f69re/HV1eRmmDIba86EotR+X1PqW47nrJWr169dDMFfUtyZacxpktmv4v4ZI/9jWveU34+te/Puz5yqiqrrt+yiuH8c5epeYc+Nx6+tSTh4kWzWhZdM/d8fsXVB7rTl+GaGyQcLnmmmuyZfp8VunzWqXZL/oM12f6008/HebOnRuefPLJMGfOnJ7rzjvvjC4vurSfH1veT+k167VrHWhdaJ1o3Ui0aD3l661xHRdVVe5LdbKlOoVsAQCAkUA/UZhLk3yDod0MFy3fvHnz0MaWSt/sdDphnu7HYUTNpJYjOIzIjjVLomXcuHFNdfzxx2cz0BrhMCI7XjmMd3bKyokdOqQZLWUdOlSPx7prPIwoR5/R+qzWZ7YOndFhMjp8SDJXn/3ajlBJ6vZS+rIltrzouvjii6PLrZW/Xr12rQOtC60TrZvBwcGetmusVLkvIVsAAABqaONgzZo1Q+JE1Uq4xESLau3atV3NbEG2NJNajkC22Ckqi3O2lIdXDuOdnTJyWp2j5cbvfqd2j3LxWHetZIvQ57SqUbros1wl4dBrabZdbHnRdemll0aX91P5684lS749o+2pbrdp+qHKfQnZAgAAUIc2EtatWzdMoDQKF13GREv9OSPaofsiW5pJLUcgW+wUlYVsKQ+vHMY7O0XntDsZbkrjXTvZIvRZrdLndi5dcvFiqVWrVkWXF12XX355dHm/lb/+fH1o3Ui2eFDlvoRsAQAAaEAbChIn9SIlFy66rR/RInR/ZEszqeUIZIsdryxkix2vHMY7O0XmdPrVobEkW3Jy6ZKXPsctpfNOxZYXXVdccUV0eb/VuB4EfckoWxYsXxsuun1OOPGH94f3fv3WcPjEqeGwk2/ILnVdy3W77hd7fKfyWmEAAACt0MZDTLjorPv1y1S9iBahxyBbmkktRyBb7HhlIVvseOUw3tkpKqebn3cei7Klnkbh0Evlh9yUXZItseVFVCP0pR5ly4Nzl2ci5bBTpoQ3nnpTeOPEW8KbvnTbgbo9vOm0A6XLA9e1XLfrfrq/Hhd7vlbltcIAAGD0Evtg73ZZt0h+NB5S1Fi6vRfRIvQ4ZEszqeUIZIsdryxkix2vHMY7O0XkdCNaxFiXLf1AX7JT5ZyuZcvXfjozHHbKDeGNp96cCZU3n3ZHePPpdx6oaeHNZ9wd3nKgdJldP/2u8OYv35kJmDd+8eeZdNHjY88bK68VBgAA0AkJkMYZLnlZRIvQY5EtzaSWI5AtdryykC12vHIY7+z0m9OtaBHIFjv0JTtVzukoW+YvXxv+xzfvrM1muTm8aeKtmUSRTHnzGdPCW864J7zlzHsb6sCyA8sz+fLluw7Odjn1pvA/vnVX9nyxnPryWmEAADB6aTWLpXF5t/KiHdu3b286R4s2xPSZZQHZEie1HIFsseOVhWyx45XDeGenn5xeRItAttihL9mpck5b2SIxcszXbs5Ey2ETbszqjSodQvTFnx+ULqfflc1qyQTLmY3S5UBJupw+7cB97zjwmJvDe79+S0fh4rXCAAAAOhETLXktWLAgu71X9FhkSzOp5Qhkix2vLGSLHa8cxjs71pxeRYtAttihL9mpck5b2fLhb96RHTok2XLKwPqwatdvDz7qwAbhzo3rw7U/mZrNdNHslfgMl7zyWS53hjd+8aYDz3tnNC8vrxUGAACjl5iU6HZZt7Sa0VJ/3SJc9DhkSzOp5Qhkix2vLGSLHa8cxjs7lhyLaBHIFjv0JTtVzmkpW756xYxw2MnXhzecfEM4Zdavw0u1Bwxj36/D7T+54aBwyWa4dBYuOqRIv1x01k/uj+aqvFaYJy+++GK48MILw2tf+9pw6KGHhrPPPjts2rSpdisAAFSNmGjROVr27dvXdNLcXoWLHoNsaSa1HIFsseOVhWyx45XDeGen1xyraBHIFjv0JTtVzonKFv160Bu+cF0mRd5328aws3bnKLs2hAvPnVo7pKjN4UQqyZYD99Pzvvfm9eGfFqxsylZ5rTAvdu/eHSZOnBguuOCCsGfPnrD/wCB2yy23hE996lNh8+bNtXsBAEAv5FKiXk7o70ZZ0a28qKeVaJEMEbpcu3btsNt1/26Fi+6PbGkmtRyBbLHjlYVsseOVw3hnp5ecfkSLQLbYoS/ZqXJOVLZ8/n9PD2/QrJZvLA5L9tXu2Yadi+dm52PRYUKtZ7fo3C0HZ7a84e+eDk/8JoS5S37VlK3yWmFezJgxI3ziE5/IXlvOSy+9FE4//fRw0UUXmXYEAACgeDQeb926ta1oyWklXCRROo3rui+ypZnUcgSyxY5XFrLFjlcO452dbnP6FS0C2WKHvmSnyjlNsmXB8rXhDSddG95w8h3h8lW1c7TUsXPL9rClScD8Jjz+s+sP/iT06dMysdIkW3Si3OycLT8PkxbsqT3uQENevmZYvsprhXmgDeizzjornH/++bUlr/Dzn/88kzA7duyoLQEAgG6JSYlul7VC4qPxnCz62edG0ZLTSrhoRmM7dD9kSzOp5Qhkix2vLGSLHa8cxjs73eQUIVoEssUOfclOlXOaZMuPb3vioGy5eE1YX7vTEJtXhFNOvDIce/fm5nO4rF0Sjjv1ptrsFh1OVC9bNKtl2sHztfx4Zah3OA89uXRYvqqoFaZDdh599NFw4oknhuuuu662NISdO3eGz3zmM+GSSy7paSPcwrZt28Lxxx8fpk6dWlvyCrNmzQqHH354WL58eW0JAACMJDofy6pVq4bESWxGSyOSJPXCRY/X87QD2RIntRyBbLHjlYVsseOVw3hnp1NOUaJFIFvs0JfsVDmnSbb8rwvvDa8/6dZwWdOslt+Ex6+99uDPQJ98R5i6trZ4iNrsluxkuQ2zW4Zmtdwcvr/s5dr9DxI7lKioFfajH/0ojBs3LiudM2Xv3r3ZckmYr371q+HUU0/N/m5k7ty52Uls88d2qgkTJkSfR6xcuTK87W1vaylb9HhdAgBAb7SaxdK4vFepLlEyODjYlWjJ0bm49Nmlx3USLQLZEie1HIFsseOVhWyx45XDeGenXU6RokUgW+zQl+xUOadJthz9lanh9T9c1TSr5aVV88MHJtyYyRQdCvSG69aHrbXbhojObsnP1XJ7OOzc5WFJg8NZv775JLlFrjBN5T755JPDhz70oey5czZs2BBuuOGG2rXy0KwVzV5BtgAAQA6yJU5qOQLZYscrC9lixyuH8c5Oq5yiRYtAttihL9mpck6TbHnzST8N31/aeJBQ3ayVL98Z3nTaHeGNp97deXaLTpabzWq5q+lcLTmDs6cNy1cVvcI0w0WH8uiQHqEN2XvuuSesWbMmu14myBYAgHKISYlul400yJY4qeUIZIsdryxkix2vHMY7O7GcMkSLQLbYoS/ZqXJOk2z5k7MXNs0+GZqxctod4c1n3B3efPpdmVB5w7QtHc/dks1q0c89nzI/PHPwKJ5X2LclXHP2JcPyVUWvMImO+nOj6NCe6dOnZ3+XDbIFAAAaQbbESS1HIFvseGUhW+x45TDe2WnMKUu0CGSLHfqSnSrnNMmWb/xyZ+2mV1j60M/CmybeUjdbRQLljnDYhDnhsaYf0qmfBXNXJl00q+Xzc1+s3f4KW595NLz5pCuH5auKXmGPP/54eMtb3hKWLVuWnVvlZz/7WdtfiijynC35CXKvv/762pJXkGThBLkAADZyKVEvJ/R3o6zoVl54gmyJk1qOQLbY8cpCttjxymG8s1OfU6ZoEcgWO/QlO1XOaZItv9jQYE92rA3nTpiayZWh87Do0KDT7wpvnHhLVKK8tHZhNrtFvz6U/QLRKb8Mc35TuzHnt1vD1HOuzM4R0/g/FL3C6meQ6PAhzWzxQhvQ+unnb33rW00b0Jrtwk8/AwCMPZAtcVLLEcgWO15ZyBY7XjmMd3bynLJFi0C22KEv2alyTpNs0a8D1bNq1kAmVSRXslktZx78hSEdTtTy8CDNbrnuZ+GNp94UDptwY/j8k81CZufSOeH1J10b/tcP7h2Wryp6heWH8ujcLU899VRtqR/Tpk0LH/nIR7IN65yXXnopnH766eGiiy6q5LeuAABVJzZ2drtspEG2xEktRyBb7HhlIVvseOUw3tlRjodoEcgWO/QlO1XOaZItDz25tHbTAYZmtdyeyZVctAzNbqmd+PaUp2OzW54N7z/p2vCGk37ZLGN+uzXc+I0Dt33huvDj254Ylq8qeoXp+d797neHG2+8cUQ2unXIkn56WrNb9Ld+IlSHFX30ox8Nmzdvrt0LAADGCsiWOKnlCGSLHa8sZIsdrxzGOzu/Ghx0ES0C2WKHvmSnyjlNsuXZ5a/8Qs+SGbdGZ7UcrHtemd1y7qLI7JbfhmemTQ1fmNV8DpitC34R3nDy9eENJ10XFixfOyxfVfQKW79+fbjyyiszyTFSvPjii+HCCy8Mr33ta7PzwejnqNetW1e7FQAAeqXVLJbG5SMh2TuBbImTWo5AttjxykK22PHKYbyzoRkt8yZOcBEtAtlih75kp8o5TbJFlR1KtGVVmPCF68ObvnT7K+dqaax8dovO3fKLHc2/TBTjN8+HC//uZ5ls+fz/nt6UrSpyhUly3H///SMqWgAAAOpBtsRJLUcgW+x4ZSFb7HjlMN71jtehQ/UgW+zQl+xUOScqW2YtWBGemHpJOOyUG4afGDdW2eyWO8IbT30s3Lax8TejG/ltmH/PreGwk2/IDiF6cO7ypmxVvytMJ8E96aSTwqJFi8Ktt96anR8FAADSIiYlul020ki2zJs3LyxcuDD7pTyduH1wcDCsXr06rFmzJvsc7FSTJ0+OLi+jZs+eHV1edKWWo/J6n1Jcd15Z2pmaNGlS9LYiK8V155XDeNdjHfg8ic1oWfHgQPz+BVVK493AwEA2NowfPz5MmTIlep8ii75kryrnRGWL6qxL7g+HnayZLbfVztfSeBhRLlv0y0TTDv7q0Lm/DHN21bYkI7w0OD+8/8Bz6nm/esWMaK5K/1g/6Ked3/rWt4abb76ZGS0AAFA5mNkSJ7UcwcwWO15ZzGyx45XDeNc9IzGjJYeZLXboS3aqnNNStqg+/M07whu/eFN485fv7EK43BXeNPHWcNhPlocljT/zfICda5eECTpPy4HS88by8vJaYQAAMHrJpUS9nNDfjbKiW3nhCbIlTmo5AtlixysL2WLHK4fxrjtGUrQIZIsd+pKdKue0lS3zl68N7/36LeGNX7w5O1RIM1iaT5TbIFy+dFt443kzw4UzV4fHV+4I8xcOhhtvuie8QYcOnXx9OOarN2fPG8vLy2uFAQAAjATIljip5Qhkix2vLGSLHa8cxrvOtBItOnTIC2SLHfqSnSrntJUtKomR//Gtu8IbT73p4CFFX77r4CyXTLo0iJfaIUVv/vId2SwX/Sy0HnfYhKnZeVo0o6WTaFF5rTAAABi9xKREt8tGGmRLnNRyBLLFjlcWssWOVw7jXXvazWjxbHfIFjv0JTtVzukoW/L62k9nhsNOmZIJFP3cc3Zo0el3HZQrZ9z9SmmZZMuB++hXig6bcGN2jpavtTlHS2N5rTAAAICRANkSJ7UcgWyx45WFbLHjlcN415pOhw55tjtkix36kp0q53QtW1T69aATf3j/Qely6k2ZTNFsF/08tORKdqnDiA4sz2a0HLif7t/qV4daldcKAwAAGAmQLXFSyxHIFjteWcgWO145jHdxujlHi2e7Q7bYoS/ZqXJOT7IlrwXL14aLbp+TiZT3fv3WcPjEg4cJ6VLXtVy3636xx3cqrxUGAAAwEiBb4qSWI5AtdryykC12vHIY75rp9mS4nu0O2WKHvmSnyjkm2VJ2ea0wAACAkQDZEie1HIFsseOVhWyx45XDeDecbkWL8Gx3yBY79CU7Vc5BtgAAADiDbImTWo5AttjxykK22PHKYbx7hV5Ei/Bsd8gWO/QlO1XOQbYAAAA4g2yJk1qOQLbY8cpCttjxymG8O0ivokV4tjtkix36kp0q5yBbAMY4L+//XfjVln3h6VV7wsxFu8MD83dlpb+1TLfpPgBQHMiWOKnlCGSLHa8sZIsdrxzGO5toEZ7tDtlih75kp8o5yBaAMcxzG18ODzyzK9zfoXQf3RcAigHZEie1HIFsseOVhWyx45Uz1sc7q2gRnu0O2WKHvmSnyjnIFoAxyK69/xJmL/9NVKy0Kz1GjwWA/kC2xEktRyBb7HhlIVvseOWM5fGuH9EiPNsdssUOfclOlXOQLQBjDMmSRxb3Llry0mMRLgD9gWyJk1qOQLbY8cpCttjxyhmr412/okV4tjtkix36kp0q5yBbAMYYlhktjaXnAAA7yJY4qeUIZIsdryxkix2vnLE43hUhWoRnu0O22KEv2alyDrIFYAyh867E5ImlOIcLgB1kS5zUcgSyxY5XFrLFjlfOWBvvihItwrPdIVvs0JfsVDlnTMmWxx57LOs49Wgjd8qUKeFb3/pWdqnrACmiXxTq5mS43Zaei18pgrFA7LNj69at4fLLL88+O+69996wb9++2i3dgWyJk1qOQLbY8cpCttjxyhlL412RokV4tjtkix36kp0q54wZ2aKNZW0UN24wa7mq8W+A1NBPOMekST+l5wRImdhnh8SKBIuW1f/dC8iWOKnlCGSLHa8sZIsdr5yxMt4VLVqEZ7tDttihL9mpck7ysiWfuXLbbbdlVb9BnN+2du3a7Lq+qdR9+pndsmPHjrBx48awYcMGiqpUDcxdH26cua5tnTf1V+HjF67OSn/H7lNfes5YFkWNZGkM1ljcD+0+O/RZccMNN2SXQp8hvc5uQbbESS1HIFvseGUhW+x45YyF8a4M0SI82x2yxQ59yU6Vc8aEbNm2bVv028fGDebG672ijfvYhj9FVaFu/0V72SK5cvhXVg2rTsJFzxnLoqgqVD/Cpd1nh+RK/WGnjde7AdkSJ7UcgWyx45WFbLHjlZP6eFeWaBGe7Q7ZYoe+ZKfKOWPmMKJWsqV+Josudd0qW5jRQlW5bnokLkzy0myWRtmiZbH75qXnjGVRVBVKY3K/tJIt9TNZGj9LugHZEie1HIFsseOVhWyx45WT8nhXpmgRnu0O2WKHvmSnyjmjXrZoo1fH0zdW/YawQLZQY72QLdRYK2RLcbDBZAfZYscrC9lixysn1fGubNEiPNsdssUOfclOlXPG/MwWDiOixkpxGBE11qrf87aIVrKFw4jKIbUcgWyx45WFbLHjlZPkeDc4WLpoEZ7tDtlih75kp8o5Y1q2aAO3fiaLLnv9drIRbdwzw4WqYnGCXGqslMbgIkSLaCXq6z8rGme6dAOyJU5qOQLZYscrC9lixysntfFOM1rmTZxQumgRnu0O2WKHvmSnyjljWrYIfvoZxgr89DNA78Q+O+qXtfps6QSyJU5qOQLZYscrC9lixysnpfHO49ChejzbHbLFDn3JTpVzxrxs0Uaupn/rPC+9TgMHGE28vP934YGIMLGWnkvPCZAyrT47NLvl8ssvj54jrBskW+bNmxcWLlwYli1bFlauXBkGBwfD6tWrw5o1a7LPwU41efLk6PIyavbs2dHlRVdqOSqv9ynFdeeVpZ2pSZMmRW8rslJcd145yYx3B8b52IyWFQ8OxO9fQHm2u5TGu4GBgWxsGD9+fLaPGLtPkUVfsleVc8aMbAGAEJ7b+HJUnFhKzwUANpjZEie1HMHMFjteWcxsseOVk8J45z2jJcez3TGzxQ59yU6Vc5AtAGOM2ct/E5UnvZSeAwDsIFvipJYjkC12vLKQLXa8ckb7eDdSokV4tjtkix36kp0q5yBbAMYYu/b+S3hksV246LF6DgCwg2yJk1qOQLbY8cpCttjxyhnN410r0aJDhzzwbHfIFjv0JTtVzkG2AIxBJEssM1z0GEQLQP8gW+KkliOQLXa8spAtdrxyRut4125GS2rvkUC22KEv2alyDrIFYAyj8650c9Jc3YdztAAUB7IlTmo5AtlixysL2WLHK2c0jnedDh1K7T0SyBY79CU7Vc5BtgCMcfSLQvoJ56dX7QkzF+0OD8zflZX+1jLdxq8OARQLsiVOajkC2WLHKwvZYscrZ7SNd92coyW190ggW+zQl+xUOQfZAgAA4AyyJU5qOQLZYscrC9lixytnNI133Z4MN7X3SCBb7NCX7FQ5B9kCAADgDLIlTmo5AtlixysL2WLHK2e0jHfdihaR2nskkC126Et2qpyDbAEAAHAG2RIntRyBbLHjlYVsseOVMxrGu15Ei0jtPRLIFjv0JTtVzkG2AAAAOINsiZNajkC22PHKQrbY8cqp+njXq2gRqb1HAtlih75kp8o5yBYAAABnkC1xUssRyBY7XlnIFjteOVUe7yyiRaT2Hglkix36kp0q5yBbAAAAnEG2xEktRyBb7HhlIVvseOVUdbyzihaR2nskkC12xnpf6ocq5yBbAAAAnEG2xEktRyBb7HhlIVvseOVUcbzrR7SI1N4jgWyxM5b7Ur9UOQfZAgAA4AyyJU5qOQLZYscrC9lixyunauNdv6JFpPYeCWSLnbHal4qgyjnIFgAAAGeQLXFSyxHIFjteWcgWO145VRrvihAtIrX3SCBb7IzFvlQUVc5BtgAAADiDbImTWo5AttjxykK22PHKqcp4V5RoEam9RwLZYmes9aUiqXIOsgUAAMAZZEuc1HIEssWOVxayxY5XThXGuyJFi0jtPRLIFjtjqS8VTZVzkC0AAADOIFvipJYjkC12vLKQLXa8ckZ6vCtatIjU3iOBbLEzVvpSGVQ5B9kCAADgDLIlTmo5AtlixysL2WLHK2ckx7syRItI7T0SyBY7Y6EvlUWVc8YtX748UBRFURTlV8iWOKnlCGSLHa8sZIsdr5yRGu/KEi0itfdIIFvspN6XyqTKOcxsAQAAcAbZEie1HIFsseOVhWyx45UzEuNdmaJFpPYeCWSLnZT7UtlUOQfZAgAA4AyyJU5qOQLZYscrC9lixyvHe7wrW7SI1N4jgWyxk2pf8qDKOcgWAAAAZ5AtcVLLEcgWO15ZyBY7Xjmu493gYOmiRaT2Hglki50k+1JibdySE5Et68Osa88J0xc3LvcrrxUGAAAwEiBb4qSWI5AtdryykC12vHK8+pFmtMybOKF00SJSe48EssVOan1JpNbGLTlNsmXRveeEc85BtgAAAJQFsiVOajkC2WLHKwvZYscrx6MfeRw6VE9q75FAtthJqS/lpNbGLTnDZcvi6eGcexdlwgXZAgAAUA6SLfPmzQsLFy4My5YtCytXrgyDg4Nh9erVYc2aNdnnYKeaPHlydHkZNXv27Ojyoiu1HJXX+5TiuvPK0s7UpEmTorcVWSmuO6+c0vvRgfE3NqNlxYMD8fsXUKm9R6qUxruBgYFsbBg/fnyYMmVK9D5FVjJ9qa5Sa+OWnFdky9pZ4ZprZ4X1B/5GtgAAAJQHM1vipJYjmNlixyuLmS12vHLK7EfeM1pyUnuPBDNb7KTQlxpJrY1bcoZky/pZ12SHD71S14RZa5tFiEd5rTAAAICRANkSJ7UcgWyx45WFbLHjlVNWPxop0SJSe48EssXOaO9LMVJr45acyAlymdkCAABQJsiWOKnlCGSLHa8sZIsdr5wy+lEr0aJDhzxI7T0SyBY7o7kvtSK1Nm7JQbYAAAA4g2yJk1qOQLbY8cpCttjxyim6H7Wb0ZLauvNsd8gWO6O1L7WDvtRCtox0ea0wAACAkQDZEie1HIFsseOVhWyx45VTZD/qdOhQauvOs90hW+yMxr7UCfoSsgUAAMAdZEuc1HIEssWOVxayxY5XTlH9qJtztKS27jzbHbLFzmjrS91AX0K2AAAAuINsiZNajkC22PHKQrbY8copoh91ezLc1NadZ7tDttgZTX2pW+hLyBYAAAB3kC1xUssRyBY7XlnIFjteOf32o25Fi0ht3Xm2O2SLndHSl3qBvoRsAQAAcAfZEie1HIFsseOVhWyx45XTTz/qRbSI1NadZ7tDttgZDX2pV+hLyBYAAAB3kC1xUssRyBY7XlnIFjteOdZ+1KtoEamtO892h2yxU/W+ZIG+hGwBAABwB9kSJ7UcgWyx45WFbLHjlWPpRxbRIlJbd57tDtlip8p9yQp9CdkCAADgDrIlTmo5AtlixysL2WLHK6fXfmQVLSK1defZ7pAtdqral/qBvoRsAQAAcAfZEie1HIFsseOVhWyx45XTSz/qR7SI1NadZ7tDttipYl/qF/oSsgUAAMAdZEuc1HIEssWOVxayxY5XTrf9qF/RIlJbd57tDtlip2p9qQjoS8gWAAAAd5AtcVLLEcgWO15ZyBY7Xjnd9KMiRItIbd15tjtki50q9aWioC8hWwAAANxBtsRJLUcgW+x4ZSFb7HjldOpHRYkWkdq682x3yBY7VelLRUJfQrYAAAC4g2yJk1qOQLbY8cpCttjxymnXj4oULSK1defZ7pAtdqrQl4qGvoRsAQAAcAfZEie1HIFsseOVhWyx45XTqh8VLVpEauvOs90hW+yMdF8qA/oSsgUAAMAdZEuc1HIEssWOVxayxY5XTqwflSFaRGrrzrPdIVvsjGRfKgv6ErIFAADAHWRLnNRyBLLFjlcWssWOV05jPypLtIjU1p1nu0O22BmpvlQm9KWKypa1a9fW/j0AAID0QLbESS1HIFvs9JO1fPnycPjhh4dx48ZlNXXq1NotzSBb7Hjl1PejMkWLSG3debY7ZIudkehLZUNfapAt2uiLXXrfvm7duqGNTV3mBQAAkALIljip5Qhkix1rVi5aZs2alV3ftm1bOP7444euN4JsseOVk/ejskWLSG3debY7ZIsd777kAX0phHE7duwIVav169fX/j0AAID0QLbESS1HIFvsWLM0i2XChAlhz549tSUHl51//vm1a8NBttjxylE/8hAtIrV159nukC12PPuSF/SlisqW559/vvbvAQAApAeyJU5qOQLZYqfILIkWZEvxeOVcefnlLqJFpLbuPNsdssWO1/vEtoMdS864nTt3hqrVhg0bav8eAABAeiBb4qSWI5AtdorK0mFFxx13XHYZA9lixyNHM1pmfOaTLqJFpLTuhGe7Q7bY8Xqf2HawY8nJZMuLL76YSY76y7xG4vZNmzbV/r2D52ypvwQAABjtSLbo/BFPPfVUmD9/fli4cGFYvHhxWLJkSVi6dGlYtmxZx/r2t78dXV5GzZgxI7q86EotR+X1PqW47qxZOhx97969WV/Lz9+iw4i0LaltzZUrVw67/2te85rw9a9/fdiyMmo0rLteq/ScA+Pi06ee3CRaFt1zd/z+BVQy665Wnu0upfFu2rRp2dhw6KGHhmuuuSZ6nyLL631i28FelpxxufSoUm3evDn7gAQAAEgRyZbbb78925i77777wsDAQPbN2cMPP5yVPtA71VlnnRVdXkbddNNN0eVFV2o5Kq/3KcV1Z8nSt9G7d+/O+lmjaNm+fXuYO3du02O0M6VzvDQuL7qqvu4sVWrOgw+GWSd+bphoeeID7w2PXntN/P4FVRLrrq48211K492VV16ZjQ2HHHJIuPDCC6P3KbK83ie2HexlyamsbNGHYqwAAABGOxxGFCe1HMFhRHb6ydLMMf3kc6tfIKqHw4jslJXjdTLcGKN93TXi2e44jMiO1/vEtoMdS8442f+q1ZYtW2r/HgAAQHogW+KkliOQLXasWY0//dwJZIudMnJiokUzWjxEixjN6y6GZ7tDttjxep/YdrBjyamkbNm6dWvt3wMAAEgPZEuc1HIEssWONUu/OqRZLY3V+HPQOcgWO0XntJrRcuN3v1O7R/mM1nXXCs92h2yx4/U+se1gx5IzTht5VSsdUwsAAJAqyJY4qeUIZIsdryxki50ic9odOsR4Z8ez3SFb7Hi9T/QlO5acTLbI8lfp8oUXXhja2Gy8BAAAGO0gW+KkliOQLXa8spAtdorK6XSOFsY7O57tDtlix+t9oi/ZseSMk+CoWmnjEwAAIFWQLXFSyxHIFjteWcgWO0XkdHMyXMY7O57tDtlix+t9oi/ZseSM27t3b6ha7dixo/bvAQAApAeyJU5qOQLZYscrC9lip9+cbkSLYLyz49nukC12vN4n+pIdS04lZcvOnTtr/x4AAEB6IFvipJYjkC12vLKQLXb6yelWtAjGOzue7Q7ZYsfrfaIv2bHkjHvppZdC1erFF1+s/XsAAADpgWyJk1qOQLbY8cpCttix5vQiWgTjnR3PdodsseP1PtGX7FhyxmkDr2qln38GAABIFWRLnNRyBLLFjlcWssWOJadX0SIY7+x4tjtkix2v94m+ZMeSU8mZLZIt2tiMFQAAwGgH2RIntRyBbLHjlYVssdNrjkW0CMY7O57tDtlix+t9oi/ZseSM27dvX6ha6ReJAAAAUgXZEie1HIFsseOVhWyx00uOVbQIxjs7nu0O2WLH632iL9mx5Izbf2Dgq1rpJLkAAACpgmyJk1qOQLbY8cpCttjpNqcf0SIY7+x4tjtkix2v94m+ZMeSU0nZokOJAAAAUgXZEie1HIFsseOVhWyx001Ov6JFMN7Z8Wx3yBY7Xu8TfcmOJSeTLdrAq9KlDiXKNzYbLwEAAEY7yJY4qeUIZIsdryxki51OOUWIFsF4Z8ez3SFb7Hi9T/QlO5accdqwq1pJuAAAAKQKsiVOajkC2WLHKwvZYqddTlGiRTDe2fFsd8gWO17vE33JjiWnkrJFG5wAAACpgmyJk1qOQLbY8cpCtthplVOkaBGMd3Y82x2yxY7X+0RfsmPJGaeNuqqVNjYBAABSBdkSJ7UcgWyx45WFbLETyylatAjGOzue7Q7ZYsfrfaIv2bHkjKtdVopuNzQBAABGI8iWOKnlCGSLHa8sZIudxpwyRItgvLPj2e6QLXa83if6kh1LTiVlCwAAQMogW+KkliOQLXa8spAtdupzyhItgvHOjme7Q7bY8Xqf6Et2LDnIFgAAAGeQLXFSyxHIFjteWcgWO3lOmaJFMN7Z8Wx3yBY7Xu8TfcmOJQfZAgAA4AyyJU5qOQLZYscrC9liRzllixbBeGfHs90hW+x4vU/0JTuWHGQLAACAM8iWOKnlCGSLHa8sZIudXw0Oli5aBOOdHc92h2yx4/U+0ZfsWHKQLQAAAM4gW+KkliOQLXa8spAtNjSjZd7ECaWLFsF4Z8ez3SFb7Hi9T/QlO5YcZAsAAIAzyJY4qeUIZIsdryxkS+94HDpUD+OdHc92h2yx4/U+0ZfsWHKQLQAAAM5ItsybNy8sXLgwLFu2LKxcuTIMDg6G1atXhzVr1mQf6J1q8uTJ0eVl1OzZs6PLi67UclRe71OK684rSztTkyZNit5WZCWz7g6MVbEZLSseHIjfv4BivLOXZ7tLabwbGBjIxobx48eHKVOmRO9TZHm9T/Qle1lykC0AAADOMLMlTmo5gpktdryymNnSPd4zWnIY7+x4tjtmttjxep/oS3YsOcgWAAAAZ5AtcVLLEcgWO15ZyJbuGCnRIhjv7Hi2O2SLHa/3ib5kx5KDbAEAAHAG2RIntRyBbLHjlYVs6Uwr0aJDhzxgvLPj2e6QLXa83if6kh1LDrIFAADAGWRLnNRyBLLFjlcWsqU97Wa0eL0mxjs7nu0O2WKHvmSnyjnIFgAAAGeQLXFSyxHIFjteWciW1nQ6dMjrNTHe2fFsd8gWO/QlO1XOQbYAAAA4g2yJk1qOQLbY8cpCtsTp5hwtXq+J8c6OZ7tDttihL9mpcg6yBQAAwBlkS5zUcgSyxY5XFrKlmW5Phuv1mhjv7Hi2O2SLHfqSnSrnIFsAAACcQbbESS1HIFvseGUhW4bTrWgRXq+J8c6OZ7tDttihL9mpcg6yBQAAwBlkS5zUcgSyxY5XFrLlFXoRLcLrNTHe2fFsd8gWO/QlO1XOQbYAAAA4g2yJk1qOQLbY8cpCthykV9EivF4T450dz3aHbLFDX7JT5RxkCwAAgDPIljip5Qhkix2vLGSLTbQIr9fEeGfHs90hW+zQl+xUOQfZAgAA4AyyJU5qOQLZYscra6zLFqtoEV6vifHOjme7Q7bYoS/ZqXIOsgUAAMAZZEuc1HIEssWOV9ZYli39iBbh9ZoY7+x4tjtkix36kp0q5yBbAAAAnEG2xEktRyBb7HhljVXZ0q9oEV6vifHOjme7Q7bYoS/ZqXIOsgUAAMAZZEuc1HIEssWOV9ZYlC1FiBbh9ZoY7+x4tjtkix36kp0q5yBbAAAAnEG2xEktRyBb7HhljTXZUpRoEV6vifHOjme7Q7bYoS/ZqXIOsgUAAMAZZEuc1HIEssWOV9ZYki1Fihbh9ZoY7+x4tjtkix36kp0q5yBbAAAAnEG2xEktRyBb7HhljRXZUrRoEV6vifHOjme7Q7bYoS/ZqXIOsgUAAMAZZEuc1HIEssWOV9ZYkC1liBbh9ZoY7+x4tjtkix36kp0q5yBbAAAAnEG2xEktRyBb7HhlpS5byhItwus1Md7Z8Wx3yBY79CU7Vc5BtgAAADiDbImTWo4YyZ0PtaWia82aNdHlZVQ/Wb2QsmwpU7QIr9fEeGcnlhPrM0XUFVdcEV1edPU7DnUDsqV/xkJf6gSyBQAAwBlkS5zUcoS3bGncqVCbKrJWr14dXV5GWbMa10EnUpUtZYsW4fWaGO/s5DmN/SLWd/otyZbY8qKrn3GocT20AtnSP6n2pV5AtgAAADiDbImTWo7wep/yb3rzHQq1J9X+AzvcRdaqVauiy8soa1b+2ht3rlqRpGwZHCxdtAiv18R4Z8drbFBdfvnl0eVFVz/jULfjA7Klf1LrS5YcZAsAAIAzyJY4qeUIj/dJbUY7VPmOlHYo9u3bl7Ur1UsvvVRYrVixIrq8jLJk5a9Zrz/fsWq3QyVSky2a0TJv4oTSRYvwek2MdzY8xwbVpZdeGl1edFnHoV7GB2RL/6TUl4QlB9kCAADgDLIlTmo5ouz3Se1F7WZwcHBoR0o7FXv27Am7d+8Ou3btyurFF18spJYsWRJdXkb1mpW/Vr1uvX6th9hOVSMpyRaPQ4fq8epLjHe94z02qC6++OLo8qLLMg71Oj4gW/onlb6UY8lBtgAAADiDbImTWo4o831SW1Gp7WhavXYe1J60Y7Fz586wffv2rJ1t3ry5sFq4cGF0eRllydLr3bp1a/b6tR60PrRe8h2qfJ3Vk4ps8RYtwqsvMd71xkiMDarrrrsuurzoso5DvYwPyJb+SaEv1WPJQbYAAAA4I9kyb968bINx2bJlYeXKldm3jzrpn6Z86wO9U02ePDm6vIyaPXt2dHnRlVqOqsz3SW1FbUY7U4899ljWlhYvXpxdarnus27durB+/frCSpmx5WWUNUuvWa9ffUrfgGt96LADradYH9PO1KRJk4YtK6NKbXcHXmvs0KEVDw7E719QefUlxrveqtXYoP6Qt/+ixwbV0qVLo8uLrn7GoW7Hh4GBgWxsGD9+fJgyZcqw9VtG0ZfsVeUcZAsAAIAzzGyJk1qOKOt9UjtRe1G70VR47TDo29pt27aF559/PpsuXwbK86KfLH1TvWPHjmxd5P1M6ynWz0b7zJaRmNGS49WXGO+6p9XYoBkdkg1ljQ1C/cyDfsehbsYHZrb0z2jvS41YcpAtAAAAziBb4qSWI8qWLdpp0DR4fUOrQwP02nS9LPrdyemFIrLUxzZs2JAdMpAfLpCSbGklWjSjxQOvvsR41z0jNTaI0SJbctqND8iW/hntfakRSw6yBQAAwBlkS5zUckSZskVtRt/G6mSPOkQgPx9BmYw22aKdJ317rW/2tZ7yb69TkC3tZrSk1pcY77onNjbofCWa9VY2o022tBsfkC39k9o4ZMlBtgAAADiDbImTWo4oW7ao7ejXNXT+H31DW+YhAqKonZxuKCpr06ZNmYTSesr72miXLZ0OHUqtLzHedc9IjQ1itMkW0Wp8QLb0T2rjkCUH2QIAAOAMsiVOajmijPdJbSQ/TEBtRztRCxYsyM7HUPZhAkXu5HSiqKz8V0i0nrS+6g8VEKNNtnRzjpbU+hLjXXeM5NggRqNsaTU+aL0hW/ojtXHIkoNsAQAAcAbZEie1HFG2bNEOlHYS5s+fj2xpQf6zr1pPjedlEKNJtnR7MtzU+hLjXXeM5NggRqtsiY0PyJb+SW0csuQgWwAAAJxBtsRJLUd4yBad3BHZ0pp8Z6rVSXJHi2zpVrSI1PoS4113jOTYIEazbGkcH5At/ZPaOGTJQbYAAAA4g2yJk1qOQLbYQba8Qi+iRaTWlxjvugPZ0jvIlvJIbRyy5CBbAAAAnEG2xEktRyBb7CBbDtKraBGp9SXGu+5AtvQOsqU8UhuHLDnIFgAAAGeQLXFSyxGjTbboJ1Db4S1b1Dc6/U+dGM2yxSJaRGp9ifGuO0ZybBDesqXM8QHZ0j+pjUOWHGQLAACAM8iWOKnliNEiWzZu3BiOOOKI8Mwzz9SWxPGWLeJjH/tYmD59eva3hdEqW6yiRaTWlxjvumMkxwYxEjNbyhofkC39k9o4ZMlBtgAAADiDbImTWo4YDbIl35nqZodlJGSL/j/tUF111VXZ9V4ZjbKlH9EiUutLjHfdMZJjgxgJ2VLW+IBs6Z/UxiFLDrIFAADAGWRLnNRyxGiQLV/60peynZVuGAnZIrQjpZ0+7Vj1ymiTLf2KFpFaX2K8646RHBvESMgWUcb4gGzpn9TGIUsOsgUAAMAZZEuc1HJE1WWLDg3o5ZvrkZItwvrt9WiSLUWIFpFaX2K8646RHBvESMkWUfT4gGzpn9TGIUsOsgUAAMAZZEuc1HJE1WVLr99cj6Rs+c53vmP69nq0yJaiRItIrS8x3nXHSI4NYiRlS9HjA7Klf1Ibhyw5yBYAAABnkC1xUssRVZYt2inRzol2qtqhrEceeSSccMIJ4R3veEc49dRTsx2RbttqjN27d2ffQh933HHh6KOPDt///vfDli1barcepHGHSt+w9/pNuxgNsqVI0SJS60uMd93hPTasXbs2fPvb385mwezbty/s2rUrrFixInu/Xnjhhdq9ekOvQeOLxhn9Dxp3NP7odeXEZEvR4wOypX9SG4csOcgWAAAAZ5AtcVLLEVWWLfl5DtpNvVeWdl5OO+20bAdMmatWrQoTJ04MTz/9dO1evbFnz55sB03rRv+v2v79998fzjzzzLB169bavZp3qPLDGvQNdi9UXbYULVpEan2J8a47PMcGsWbNmkyGHHnkkdn9NRPm5ptvzvq4FY0rn/vc58Jzzz2XvR713a9//evZOJT32ZhsKXp8QLb0T2rjkCUH2QIAAOAMsiVOajliNMgW7aS0QrNNTjnllLBw4cLser6T8/DDD4czzjgj7Ny5M7veC3PmzAmnn376sMeqD1xwwQXhhhtuaLtDpZ05/c+9UGXZUoZoEan1Jca77vAcG4Rky4wZM2rX+j+MSJLmb//2b7PxpR6NP5///OfD888/n12PjQ2iyPEB2dI/qY1DlhxkCwAAgDPIljip5YgqyxYdIqAdk3bnOJg5c2b4whe+EHbs2JFdz3dydPjAZz/72bB48eLserfoUAMdMnTppZfWlryCZrdIwuj1iHaypZfzMlRVtpQlWkRqfYnxrjs8xwZRtGzRePLpT386e956JGYlfTUeiU6ypYjxAdnSP6mNQ5YcZAsAAIAzyJY4qeWIKsuWbr4FlhT51re+Ffbu3Ztdz3dyJF8kYe69997sere0e5y+Rf/oRz86tKMV26HqdiewnirKljJFi0itLzHedYfn2CBy2aL6yEc+Et7+9reHSy65xHwYkcaFermbo/FH41AuaVvJliLHB2RL/6Q2DllykC0AAADOIFvipJYjqixbtFPSbodK7VLnVmknW2IzVNqhGTEf//jHW8oW/T/5oQuxHar8F0c6Hd5QT9VkS9miRaTWlxjvusNrbMhRf7766quzS+XqsMO///u/Dz/+8Y9bCpF26H1uJ1vysajVcxc5PiBb+ie1cciSg2wBAABwBtkSJ7UcUWXZ0unb68YdHNGvbNE34Zq9YpUt+TfXo1W2eIgWkVpfYrzrDq+xoRX6PFu5cmUmVPPzPPWCxpN+ZEuR4wOypX9SG4csOcgWAAAAZ5AtcVLLEaNBtrSacl9l2TIqDyMaHHQRLSK1vsR41x1eY0Mr9HmWn1/l4osvbilFWlGUbOEwotbQl+xYcpAtAAAAziBb4qSWI6osWzrtmFRRtli+ca+CbNGMlnkTJ7iIFpFaX2K86w6vsaEV+jzLxw39XLOu90K/sqXI8QHZ0j+pjUOWHGQLAACAM8iWOKnliCrLlvznXadPn15b0ox2fs4999yhE142ypaYNGlH/rhp06bVlryCJEunE+Tq/9UOVS+MtGzxOnSontT6EuNdd3iODVu3bg0nn3xyuOaaa4b6ar1s0eyWXn8aXuPJiSeeGF544YXakoPkz5nL3VaypcjxAdnSP6mNQ5YcZAsAAIAzki3z5s3LjmlftmxZdoz74OBgWL16dbajqQ/0TjV58uTo8jJq9uzZ0eVFV2o5qjLeJ7URtZVVq1aFFStWhCVLlmQ/m6x2pJ0d7Yh0U08//XR4xzvekZ3QMna7SjsZn/vc57IdK13PxaCy/+qv/io8++yzw+7fqbTTdMEFF4SLLroo26mpv00CRt+oS0Lqep6Vl3YY9f9eccUVw5Z3queffz7ra1pPWl/63+v7mnamJk2a1LSeC6kD/To2o2XFgwPx+xdUqfUlxrvuynNsUM5f/uVfhiuvvHKor+7atSvrv+rH6uf5LJRuS+OJzvei/7d++fbt2zMJo/FI1xvHBlXR48MDDzyQjQ3jx48PU6ZMia7vIou+ZK8q5yBbAAAAnGFmS5zUckSVZ7YIfQusHaNWaEfk85//fLbzJdROxcMPPxzOOOOMoW+utZOlwwb060WdfvZVPxM7ceLEsG3bttqSg798pJ2zG264YagP5Fk5+bft+WFG3TJSM1tGYkZLTmp9ifGuOzzHBvXPO++8Mxsb9u3bly1Tn5Y0PeGEEzJhkbNp06ZsHJGYaezX9Wg80bjSOGNOMkSP13gkYs9R9PjAzJb+SW0csuQgWwAAAJxBtsRJLUdUXbbkOyitzs2gLB1KcOqpp4Z169Zlmc8991w22yUXMCKXLVqeHwbUCskYSZlLLrkk+1ttXztop512WjaDJqdxh0o7f70eIiBGQraMpGgRqfUlxrvu8BwbhD67ND588pOfzO773ve+NxMqmolSj2SLZqZI3jSej6URjSsaRxYtWpS9HuVrbFBO3mdjsqXo8QHZ0j+pjUOWHGQLAACAM8iWOKnliKrLFqEdFO1YtUJZjzzySPZttabp6xvmOXPmRNuqDovrJFvE7t27s8zjjjsuHH300eG8887Ldsjqqd+h0g6X5Vtr4S1bWokWHTrkRWp9ifGuO7zHhkb0edYOHYbRSbboNUh0SPCqz0vk6FCo+vGgUbaUMT4gW/ontXHIkoNsAQAAcAbZEie1HDEaZEs332DnNO7kNKKdqS1bttSu9Ud9lr4Rb3dIQzs8ZUu7GS2e7S61vsR41x0jOTaIdrJF/5ukRafDDLuhcRwqY3xAtvRPauOQJQfZAgAA4AyyJU5qOWI0yBahnSpVp52qdrJF51vQ+Vi6bcOdyLN0+IB1R0p4yZZOhw55trvU+hLjXXeM5Ngg2smWDRs2hKeeeqp2rT/qx6GyxgdkS/+kNg5ZcpAtAAAAziBb4qSWI0aLbBGaqq9f42hHO9kyd+7c7NwtRaEsnfth6tSptSU2PGRLN+do8Wx3qfUlxrvuGMmxQbSSLfp/dOihPuuKIB+HyhwfkC39k9o4ZMlBtgAAADiDbImTWo4YTbKlG9rJlqIpKqts2dLtyXA9211qfYnxrjtGcmwQ7Wa2FEmR4xCypTxSG4csOcgWAAAAZ5AtcVLLEcgWO6NBtnQrWoRnu0utLzHedQeypXeQLeWR2jhkyUG2AAAAOINsiZNajkC22Km6bImJliclWubHfxHFs92l1pcY77oD2dI7yJbySG0csuQgWwAAAJxBtsRJLUcgW+xUWbb0KlqEZ7tLrS8x3nUHsqV3kC3lkdo4ZMlBtgAAADiDbImTWo5AttipqmyxiBbh2e5S60uMd92BbOkdZEt5pDYOWXKQLQAAAM4gW+KkliOQLXaqKFusokV4trvU+hLjXXcgW3oH2VIeqY1DlhxkCwAAgDPIljip5QgP2aKfW0a2tCbfmdJ6qt+Z6lW29CNahGe7S60vMd51x0iODWI0y5bG8QHZ0j+pjUOWHGQLAACAM8iWOKnliLJli9qOdhK0Y4BsibNp06asv2k9aX1ZZEu/okV4trvU+hLjXXe0GhvWrVuHbGlBq/EB2dI/qY1DlhxkCwAAgDPIljip5Yiy3ie1E7UZtZ3du3eHhQsXZjsNO3bsqN2jHEajbHn++efD9u3bs/WU97X6ftZJthQhWoRnu0utLzHedU9sbNi4cWPpY4MYjbKl1fjw7LPPIlv6JLVxyJKDbAEAAHAG2RIntRxRtmzZt29f2LNnT1i8eHHWpiRcyqTInZxOFJGlb6n1fu/cuTNbT1pf+c5UTjvZUpRoEZ7tLrW+xHjXPSM1NojRJlvajQ/Ilv4Z7X2pEUsOsgUAAMAZZEuc1HJEmbIlP1xAhwcsWbIkbNu2Lduh2rp1a+1exVPUTk439JuV70hpvbQ6Oa5oJVuKFC3Cs92l1pcY77qn1dig85LoskxGk2zpND4gW/pntPelRiw5yBYAAABnkC1xUssRZcsWtRt9G7ts2bLs21mJFrUtnb9Fhw1oB6LIUnuNLS+j+slS39L7rMMDtF70XPm31t3IlqJFi/Bsd6n1Jca77mk1NmzZsqXUsUGl/hZbXnT1Ow51Mz4gW/pntPelRiw5yBYAAABnkC1xUssRZb5P+U6Vvo1dsWJF1pa045DPcFFpx6rIWrlyZXR5GWXJ0vkXVHrtWg/5jpR2sGKzWkSjbClDtAjPdpdaX2K86412Y4NmuOgcLuonsT7UT82dOze6vOiyjkO9jA/Ilv5JbRyy5CBbAAAAnEG2xEktR5QtW1RqO6tWrcp2GNSeNCVeOxFqX/rmVjsVRZV+Rja2vIyyZOn16nXr9Ws91O9IaT3l66yeetlSlmgRnu0utb7EeNcbIzE2qH70ox9Flxdd1nGol/EB2dI/qY1DlhxkCwAAgDPIljip5Yiy3ye1F7WbwcHBbIdBU+G186CTPerXNfRzpirtWBRROv9DbHkZ1WtW/lr1uvX6tR60PvIdqVb9K5ctZYoW4dnuUutLjHe94z02qC6++OLo8qLLMg71Oj4gW/ontXHIkoNsAQAAcAbZEie1HOHxPqnNrFmzJms/akf5jpXalUo7FUWVDkmILS+jLFn5a47tRDX2rdtvvz2ceOKJ4dWvfnV43eteF/7yfe8L333LG0sRLcKz3aXWlxjvbHiODapLL700urzoso5D3Y4P69atC2effXb41//6X4ff+73fCx/72MfCLbfcUru1HOhLdqqcg2wBAABwBtkSJ7Uc4fU+aYdKbUdtKN+xyneuiiwdkhBbXkZZs/LXnq+Lxh0poR0pSZZYnfqOtxcuWoRnu0utLzHe2fEaG1SXX355dHnR1c841Gl8kFT5oz/6o/Ca17wmky3/6l/9qzB+/PhsWexXy4qCvmSnyjnIFgAAAGeQLXFSyxFe71P+mvIdh7zyHYqiavXq1dHlZZQ1q3EdNPLjH/84KlnyOvSQQ8LD1/+sdu/i8Gx3qfUlxjs7eU5jv4j1nX7riiuuiC4vuvoZhxrXQz1PPPFEJlVayRaV7lMG9CU7Vc5BtgAAADgj2fKTexaEy+9bFK56cFm45uHnwrUzVoTrZq7M6mePrOpYp06eGl1eRv34jqejy4uu1HJUXu9T7DXl7anI+tHtT0WXl1H9ZDWui/r60Ic+FJUs9XXcx0+MPraf8mx3qfUlxjt7xXJifaaIOvWCKdHlRVe/41Dj+shL/f6Q8X+Q1X989X8K/8e/+bfhX//+/xn+/SHjh5aXMTao6Ev2qnIOsgUAAMAZyZY3TZjSV73xlBuiy6lqFe9Ttepj594U/uRP/iQqWOrr0P/7ddHHUyNT9KPRUaP9ffo//+C/hf/j3736lfq3hxysumW6T+yxo6XoS76FbAEAAHBGsuUdX7kjq3d+5c7wzrN7r//39Fuiy8uot591e3R50ZVajsrrfUpx3ZWV9Wd/9mdRwVJfv//vD40+tp9KYd01llcO4529PNvdaB/vDv1/jsj6vur3DlQuW37v3x0cE/KKPbbfoi/Zq8o5yBYAAABnOGdLnNRyhPc5W8rGc92VkaWfd/7QBz8YFSz1deaZZ9YeURyjfd3F8MphvLPj2e5G+3inft/pnC1ljA2CvmSnyjnIFgAAAGeQLXFSyxHIFjtFZ0m0LD7r9PCTD7c/Z4t2sso4CeZoXnet8MphvLPj2e5G+3jHCXKLhb6EbAEAAHAH2RIntRyBbLFTZFYuWua8/5isvvD+Y1uKFv30axmM1nXXDq8cxjs7nu0uhfFOP+/cSraUNTYI+pKdKucgWwAAAJwpQrbMnTu39lf5sMFkZ8OGDbW/yiXFdVdU1u8O9K0ldaJF9eRxx2Y/73zCCSeE//pf/2v4L//lv2Q7WWV9ay1G47rrhFeOVz8Sqa07z3a3aNGi2l/lUvZr0jigseFVr3pV+L3f+71wyimnlDo2CPqSnSrnIFsAAACcKUK26DFesMFUfVJcd0VkaUZLTLTsnP9M7R4h/OEf/mEmWspmtK27bvB8TV6ktu483yN9hnng8ZqeffbZbGz4gz/4g/DQQw/VlpYHfclOlXOQLQAAAM4UIVvE1KlTw4QJE8KePXtqS8qBDabeOf/888O4ceOyOv7448O2bdtqt5RDau+R6CdL6/uDB9b75f/9rW1Fi0C22Ck7R++j+k/el9SvyiaVdZfj2e70WaTPJH02lYnHa0pNtjT2JbYdeseSg2wBAABwpgjZsnz58nD44YezwWSg7BztENa/Lx5SLLX3SFiztJ6/eMop4dH/+elhomVORLQIZIudMnPyncN8x13vayo78iK1HKH3RjvyyJbeKfM15X2nXlbq77LlJX0J2QIAAOBOv7JFG05f+9rXskK29E6ZOfkO4qxZs7Lre/fuzZZ9+tOfzgRZWaT2Hglr1qzHHw8//8Cxw0XLB94bLvnKWbV7DAfZYqfMHPWhfFaY+lG+DHHZG145Gt/03misQ7b0jldf8oS+hGwBAABwp1/Zog3ZvJAtveOVI/TeaifkuOOOQ7b0iCXrd7/d3zSjRYcOzZ46peXOBrLFjlfOCy+8kF16jHmprTuPnPwLgPnz52fvD7Kld8p8TR6zWGLQl5AtAAAA7vQjW7SzqI1ZXSJbbHjl5DBd20avWfrVofqfd85Fy475z2SiS9+4I1uKxStHY6Peu/pZY2WR2rrzyNF7ojFOn0XIFhtlvia9N3pPdMn5j+xYcpAtAAAAzvQjW7SBlO9sIFtseOUIvV8e07dTXHe9ZLX81aEF87PbkS3l4JWTixZ2EHun7By9N/kXAMgWO2W+plyy5NsO+ftUdn+iLyFbAAAA3OlGtmjnUCfArf8WKv/2MAfZYqOonHwHMH+PGt8LvVceokWk9h6JbrMkWhpntDzx/veGLU/Oqd2j/TkLkC12PHLyflb2jmFOSutOlJ2TfzYJZIudMl+T3qP8PdmwYUN22W5MLAr6ErIFAADAHevMFm0w5Tv29cUGU2+UnZPvcHiIsJzU3iPRTVZMtOhXhyYc94FhfUI7Gq121pEtdsrOyaVz2Tvv9aSy7nLKzMlFWOxzqUw55rHuUpIt9ePfrl27sktkS+9YcpAtAAAAzvR7gtwcbUAxs6V3ys7RRq2naBGpvUeiU1ZMtDx5/PvClrlPDvt2Pd8hzL99bwTZYqfMnPx98xQtIoV1V49nu2Nmix2PvtQ4A6lMISboS8gWAAAAd4qQLbovssVGmTmNh3/VV6ud/SJI7T0S7bKioqXuHC2N37i32/lDttgpM0fvWX3/yYtv43vDs90hW+yU/Zoax8SyRYugLyFbAAAA3ClCtuw/sLPpBRtM1SfFddcqq6Vomf9M7R69gWyx4/mavEht3Xm+R73MzOwHj9eUmmwZCehLyBYAAAB3ipAt2hD0gg0mOxs3bqz9VS4prrtYVtGiRSBb7HjlePUjkdq682x3zz33XO2vcvF4TanKlhdeeKH2V/nQl5AtAAAA7hQhW37605/W/iofNpjseL1PKa67xqwyRItAttjxymG8s+PZ7lIa71KVLfQlO5YcZAsAAIAzyJY4qeUIZIud+qyyRItAttjxymG8s+PZ7pAtduhLdqqcg2wBAABwBtkSJ7UcgWyxk2eVKVoEssWOVw7jnR3PdodssUNfslPlHGQLAACAM8iWOKnlCGSLHWWVLVoEssWOVw7jnR3PdodssUNfslPlHGQLAACAM8iWOKnlCGSLnV8NDpYuWgSyxY5XDuOdHc92h2yxQ1+yU+UcZAsAAIAzyJY4qeUIZIsNzWiZN3FC6aJFIFvseOUw3tnxbHfIFjv0JTtVzkG2AAAAOINsiZNajkC29I7HoUP1IFvseOUw3tnxbHfIFjv0JTtVzkG2AAAAOINsiZNajkC29Ia3aBHIFjteOYx3djzbHbLFDn3JTpVzkC0AAADOSLbMmzcvLFy4MCxbtiysXLkyDA4OhtWrV4c1a9ZkH+idavLkydHlZdTs2bOjy4uu1HJUXu9TEuvuQB+IHTq0YuCB+P0LKu1MTZo0KXpbkeXZ7lLrS4x39vJsdymNdwMDA9nYMH78+DBlypTofYos+pK9qpyDbAEAAHCGmS1xUssRzGzpjpGY0ZLDzBY7XjmMd3Y82x0zW+zQl+xUOQfZAgAA4AyyJU5qOQLZ0plWokUzWjxAttjxymG8s+PZ7pAtduhLdqqcg2wBAABwBtkSJ7UcgWxpT7sZLV6vCdlixyuH8c6OZ7tDttihL9mpcg6yBQAAwBlkS5zUcgSypTWdDh3yek3IFjteOYx3djzbHbLFDn3JTpVzkC0AAADOIFvipJYjkC1xujlHi9drQrbY8cphvLPj2e6QLXboS3aqnINsAQAAcAbZEie1HIFsaabbk+F6vSZkix2vHMY7O57tDtlih75kp8o5yBYAAABnkC1xUssRyJbhdCtahNdrQrbY8cphvLPj2e6QLXboS3aqnINsAQAAcAbZEie1HIFseYVeRIvwek3IFjteOYx3djzbHbLFDn3JTpVzkC0AAADOIFvipJYjkC0H6VW0CK/XhGyx45XDeGfHs90hW+zQl+xUOQfZAgAA4AyyJU5qOQLZYhMtwus1IVvseOUw3tnxbHfIFjv0JTtVzkG2AAAAOINsiZNajhjrssUqWoTXa0K22PHKYbyz49nukC126Et2qpyDbAEAAHAG2RIntRwxlmVLP6JFeL0mZIsdrxzGOzue7Q7ZYoe+ZKfKOcgWAAAAZ5AtcVLLEWNVtvQrWoTXa0K22PHKYbyz49nukC126Et2qpyDbAEAAHAG2RIntRwxFmVLEaJFeL0mZIsdrxzGOzue7Q7ZYoe+ZKfKOcgWAAAAZ5AtcVLLEWNNthQlWoTXa0K22PHKYbyz49nukC126Et2qpyDbAEAAHAG2RIntRwxlmRLkaJFeL0mZIsdrxzGOzue7Q7ZYoe+ZKfKOcgWAAAAZ5AtcVLLEWNFthQtWoTXa0K22PHKYbyz49nukC126Et2qpyDbAEAAHAG2RIntRwxFmRLGaJFeL0mZIsdrxzGOzue7Q7ZYoe+ZKfKOcgWAAAAZ5AtcVLLEanLlrJEi/B6TcgWO145jHd2PNsdssUOfclOlXOQLQAAAM4gW+KkliNSli1lihbh9ZqQLXa8chjv7Hi2O2SLHfqSnSrnIFsAAACcQbbESS1HpCpbyhYtwus1IVvseOUw3tnxbHfIFjv0JTtVzkG2AAAAOINsiZNajkhRtniIFuH1mpAtdrxyGO/seLY7ZIsd+pKdKucgWwAAAJxBtsRJLUckJ1sGB11Ei/B6TcgWO145jHd2PNsdssUOfclOlXOQLQAAAM4gW+KkliNS2vnQjJZ5Eye4iBbh9T4hW+x45TDe2fFsd8gWO/QlO1XOQbYAAAA4g2yJk1qOSGXnw+vQoXq83idkix2vHMY7O57tDtlih75kp8o5yBYAAABnJFvmzZsXFi5cGJYtWxZWrlwZBgcHw+rVq8OaNWuyD/RONXny5OjyMmr27NnR5UVXajkqr/ep1Nd0oG3GZrSsGHggfv+Cyut90s7UpEmTorcVWZ7tLrW+xHhnL892l8R4V6uBgYFsbBg/fnyYMmVK9D5FFn3JXlXOQbYAAAA4w8yWOKnliNH+Te9IzGjJ8XqfmNlixyuH8c6OZ7tjZosd+pKdKucgWwAAAJxBtsRJLUeM5p2PkRQtwut9QrbY8cphvLPj2e6QLXboS3aqmxPC/w9jBGluLvxFJAAAAABJRU5ErkJggg==)"
      ],
      "metadata": {
        "id": "GMLpQEsGk8op"
      }
    },
    {
      "cell_type": "markdown",
      "source": [
        "# Задание 5\n",
        "\n",
        "Дана матрица целых чисел. Пользователь вводит число.\n",
        "Выяснить, какие строки и столбцы матрицы содержат данное число.\n"
      ],
      "metadata": {
        "id": "Ws1_KJpJjofQ"
      }
    },
    {
      "cell_type": "code",
      "source": [
        "import random\n",
        "\n",
        "def InputMatrixKeyBoard(matrix):\n",
        "  for i in range(len(matrix)):\n",
        "    for j in range(len(matrix[i])):\n",
        "      matrix[i][j] = int(input());\n",
        "\n",
        "def IputMatrixRandomElements(matrix):\n",
        "    for i in range(len(matrix)):\n",
        "      for j in range(len(matrix[i])):\n",
        "        matrix[i][j] = random.randrange(0,5);\n",
        "\n",
        "def PrintMatrix(matrix):\n",
        "  for i in range(len(matrix)):\n",
        "    for j in range(len(matrix[i])):\n",
        "      print(matrix[i][j], end=\" \")\n",
        "    print();\n",
        "\n",
        "def SearchNumberInMatrix(matrix, number):\n",
        "  column = list();\n",
        "  row = list();\n",
        "\n",
        "  for i in range(len(matrix)):\n",
        "    for j in range(len(matrix[i])):\n",
        "      if(matrix[i][j] == number):\n",
        "        column.append(j);\n",
        "        row.append(i);\n",
        "  print(\"Столбцы в котрых содержиться элемент: \", set(column))\n",
        "  print(\"Строки в котрых содержиться элемент: \", set(row))\n",
        "\n",
        "\n",
        "\n",
        "n = int(input(\"Введите кол-во столбцов матрицы:\"))\n",
        "m = int(input(\"Введите кол-во строк матрицы:\"))\n",
        "\n",
        "num = int(input(\"Введите число которое надо найти:\"))\n",
        "\n",
        "matrix = [[0 for y in range(n)]for x in range(m)]\n",
        "\n",
        "IputMatrixRandomElements(matrix);\n",
        "PrintMatrix(matrix);\n",
        "\n",
        "SearchNumberInMatrix(matrix, num);\n",
        "\n",
        "\n"
      ],
      "metadata": {
        "id": "fxgx_dSmehfh",
        "colab": {
          "base_uri": "https://localhost:8080/"
        },
        "outputId": "4837fb8e-9769-434e-fb17-e0357846afd8"
      },
      "execution_count": null,
      "outputs": [
        {
          "output_type": "stream",
          "name": "stdout",
          "text": [
            "Введите кол-во столбцов матрицы:6\n",
            "Введите кол-во строк матрицы:6\n",
            "Введите число которое надо найти3\n",
            "3 3 3 3 3 1 \n",
            "2 1 2 4 0 0 \n",
            "3 1 1 3 2 1 \n",
            "2 3 3 4 2 4 \n",
            "2 4 1 1 0 2 \n",
            "0 2 0 1 3 0 \n",
            "Столбцы в котрых содержиться элемент:  {0, 1, 2, 3, 4}\n",
            "Строки в котрых содержиться элемент:  {0, 2, 3, 5}\n"
          ]
        }
      ]
    },
    {
      "cell_type": "markdown",
      "source": [
        "# Задание 6 \n",
        "В книге о Гарри Поттере повелитель зла, Лорд Волдеморт,\n",
        "создал свое имя путем перестановки букв в своем настоящем имени. Так из\n",
        "имени «Tom Marvolo Riddle» он получил «I am Lord Voldemort». Напишите\n",
        "программу, которая проверяет, можно ли получить из одного имени другое\n",
        "путем перестановки его букв.\n",
        "\n",
        "\n"
      ],
      "metadata": {
        "id": "ibtLQszYg4eH"
      }
    },
    {
      "cell_type": "code",
      "source": [
        "nameFirst = input(\"Введите первое имя:\")\n",
        "nameSecond = input(\"Введите второе имя:\")\n",
        "\n",
        "lettersFirstName = list();\n",
        "lettersSecondName = list()\n",
        "\n",
        "\n",
        "nameFirst = nameFirst.replace(\" \",\"\");\n",
        "nameSecond = nameSecond.replace(\" \",\"\");\n",
        "\n",
        "if (len(nameFirst) == len(nameSecond)):\n",
        "\n",
        "  for i in range(len(nameSecond)):\n",
        "    if(nameSecond[i].isalpha):\n",
        "      lettersSecondName.append(nameSecond[i].upper())\n",
        "  \n",
        "  for i in range(len(nameFirst)):\n",
        "    if(nameFirst[i].isalpha):\n",
        "      lettersFirstName.append(nameFirst[i].upper())\n",
        "\n",
        "  i = 0;\n",
        "  lettersFirstName.sort(); \n",
        "  lettersSecondName.sort();\n",
        "  for i in range(len(lettersFirstName)):\n",
        "    if (lettersFirstName[i] != lettersSecondName[i]):\n",
        "      i=-1;\n",
        "      break;\n",
        "\n",
        "  print(i == len(lettersFirstName) - 1);\n",
        "\n",
        "else:\n",
        "  print(\"false\")\n"
      ],
      "metadata": {
        "id": "GtqePmpG9N9t",
        "colab": {
          "base_uri": "https://localhost:8080/"
        },
        "outputId": "08ef220c-6e70-4c7b-83dc-909080f01e96"
      },
      "execution_count": null,
      "outputs": [
        {
          "output_type": "stream",
          "name": "stdout",
          "text": [
            "Введите первое имя:Tom Marvolo Riddle\n",
            "Введите второе имя:I am Lord Voldemort\n",
            "True\n"
          ]
        }
      ]
    },
    {
      "cell_type": "markdown",
      "source": [
        "#Задание 7\n",
        "Дан список чисел. Определите, сколько в нем встречается\n",
        "различных чисел."
      ],
      "metadata": {
        "id": "SdxkTfS845ks"
      }
    },
    {
      "cell_type": "code",
      "source": [
        "list_number = list(map(int,input(\"Введите список чисел, разделенных пробелом: \").split()))\n",
        "\n",
        "list_number_unique = set(list_number);\n",
        "\n",
        "print(\"Всего уникальных чисел \", len(list_number_unique))"
      ],
      "metadata": {
        "id": "vCGA-Rjug0C7",
        "colab": {
          "base_uri": "https://localhost:8080/"
        },
        "outputId": "05a9ca17-24ec-42ed-e929-d7967f20f4ef"
      },
      "execution_count": null,
      "outputs": [
        {
          "output_type": "stream",
          "name": "stdout",
          "text": [
            "Введите список чисел, разделенных пробелом: 1 3 97 97 3 5 3 3\n",
            "Всего уникальных чисел  4\n"
          ]
        }
      ]
    },
    {
      "cell_type": "markdown",
      "source": [
        "#Задание 8\n",
        "Имеется N (2 ≤ N ≤ 109\n",
        ") монет, не различимых на первый взгляд.\n",
        "Одна из них фальшивая и чуть тяжелее, чем настоящая. Во всем остальном\n",
        "она полностью идентична настоящим. Есть чашечные весы без гирь и шкалы\n",
        "(по таким весам, можно определить, какая чаша тяжелее или легче, но нельзя\n",
        "сказать на сколько). Напишите функцию, которая определит минимальное\n",
        "количество взвешиваний, за которое можно гарантированно определить\n",
        "фальшивую монету.\n"
      ],
      "metadata": {
        "id": "ldvbP5ak9bXq"
      }
    },
    {
      "cell_type": "code",
      "source": [
        "import math;\n",
        "N = int(input(\"Введите кол-во монет:\"));\n",
        "\n",
        "print(math.ceil(math.log(N,3)));"
      ],
      "metadata": {
        "colab": {
          "base_uri": "https://localhost:8080/"
        },
        "id": "HmhL2NHf9dip",
        "outputId": "95f78dc0-4af0-445f-bc23-3741cd85894e"
      },
      "execution_count": null,
      "outputs": [
        {
          "output_type": "stream",
          "name": "stdout",
          "text": [
            "Введите кол-во монет:109\n",
            "5\n"
          ]
        }
      ]
    }
  ]
}